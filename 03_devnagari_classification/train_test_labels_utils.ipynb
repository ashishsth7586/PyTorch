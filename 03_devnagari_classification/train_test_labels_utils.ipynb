{
 "cells": [
  {
   "cell_type": "code",
   "execution_count": 167,
   "metadata": {},
   "outputs": [],
   "source": [
    "import os\n",
    "import glob\n",
    "import pandas as pd\n",
    "\n",
    "BASE_DIR = os.environ.get('HOME')"
   ]
  },
  {
   "cell_type": "code",
   "execution_count": 168,
   "metadata": {},
   "outputs": [],
   "source": [
    "dataset_path = os.path.join(BASE_DIR, 'Desktop', 'Online Course Assignments', 'Hands-on Datasets', \n",
    "                            '03_devnagari_classification', 'dataset')"
   ]
  },
  {
   "cell_type": "code",
   "execution_count": 170,
   "metadata": {},
   "outputs": [],
   "source": [
    "os.chdir(dataset_path)"
   ]
  },
  {
   "cell_type": "code",
   "execution_count": 171,
   "metadata": {},
   "outputs": [
    {
     "data": {
      "text/plain": [
       "'/home/ashish/Desktop/Online Course Assignments/Hands-on Datasets/03_devnagari_classification/dataset'"
      ]
     },
     "execution_count": 171,
     "metadata": {},
     "output_type": "execute_result"
    }
   ],
   "source": [
    "pwd"
   ]
  },
  {
   "cell_type": "markdown",
   "metadata": {},
   "source": [
    "### Extracting all the image file-name and creating a corresponding CSV file"
   ]
  },
  {
   "cell_type": "code",
   "execution_count": 109,
   "metadata": {},
   "outputs": [],
   "source": [
    "train_classes = os.listdir()\n",
    "num_of_classes = len(train_classes)\n",
    "\n",
    "for i in range(num_of_classes):\n",
    "    change_dir = os.path.join(train_path, train_classes[i])\n",
    "    os.chdir(change_dir)\n",
    "    dir_names = os.listdir()\n",
    "    classname = train_classes[i]\n",
    "    f = open(classname+ '.csv', 'w')\n",
    "    for j in range(len(dir_names)):\n",
    "        f.write(dir_names[j])\n",
    "        f.write(',' + classname)\n",
    "        f.write('\\n')\n",
    "    f.close()\n",
    "    os.chdir(change_dir)\n"
   ]
  },
  {
   "cell_type": "markdown",
   "metadata": {},
   "source": [
    "### Concatinating all the CSV files"
   ]
  },
  {
   "cell_type": "code",
   "execution_count": 180,
   "metadata": {},
   "outputs": [],
   "source": [
    "def concatenate():\n",
    "    dataset_path = os.path.join(BASE_DIR, 'Desktop', 'Online Course Assignments', 'Hands-on Datasets', \n",
    "                            '03_devnagari_classification', 'dataset', 'labels')\n",
    "    os.chdir(dataset_path)\n",
    "    fileList = glob.glob(\"*.csv\")\n",
    "    dfList = []\n",
    "    colnames=[\"filename\", \"label\"]\n",
    "    for filename in fileList:\n",
    "        #print(filename)\n",
    "        df = pd.read_csv(filename, header=None)\n",
    "        dfList.append(df)\n",
    "    concatDf = pd.concat(dfList, axis=0)\n",
    "    concatDf.columns = colnames\n",
    "    concatDf.sort_values([\"label\"], ascending=True, axis=0, inplace=True)\n",
    "    concatDf.to_csv('labels.csv', index=None)"
   ]
  },
  {
   "cell_type": "code",
   "execution_count": 181,
   "metadata": {},
   "outputs": [],
   "source": [
    "concatenate()"
   ]
  },
  {
   "cell_type": "code",
   "execution_count": null,
   "metadata": {},
   "outputs": [],
   "source": []
  }
 ],
 "metadata": {
  "kernelspec": {
   "display_name": "Python 3",
   "language": "python",
   "name": "python3"
  },
  "language_info": {
   "codemirror_mode": {
    "name": "ipython",
    "version": 3
   },
   "file_extension": ".py",
   "mimetype": "text/x-python",
   "name": "python",
   "nbconvert_exporter": "python",
   "pygments_lexer": "ipython3",
   "version": "3.7.3"
  }
 },
 "nbformat": 4,
 "nbformat_minor": 2
}
