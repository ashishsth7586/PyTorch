{
  "nbformat": 4,
  "nbformat_minor": 0,
  "metadata": {
    "colab": {
      "name": "DevanagariDatasetResNet50.ipynb",
      "provenance": [],
      "collapsed_sections": [],
      "toc_visible": true
    },
    "kernelspec": {
      "name": "python3",
      "display_name": "Python 3"
    },
    "accelerator": "GPU"
  },
  "cells": [
    {
      "cell_type": "markdown",
      "metadata": {
        "id": "vQFA7-mr-DVy",
        "colab_type": "text"
      },
      "source": [
        "ResNet is short name for Residual Network. As the name of the network indicates, this new terminology introduces residual learning.\n",
        "\n",
        "In general, in a deep convolutional neural network, several layers are stacked and are trained to the task at hand. The network learns several low/mid/high level features at the end of its layers. In residual learning, instead of trying to learn some features, we try to learn some residual. Residual can be simply undestood as subraction of feature learned from input of that layer. ResNet does this using shortcut connections(directly connecting input of nth layer to some (n+x)th layer. It has proved that training this from of networks are easier than traning ismple deep convolutional neural networks and also the problem of degrading accuracy is resolved.\n",
        "\n",
        "### **Need of Residual Learning:**\n",
        "\n",
        "Deep Convolution Neural Networks have led to a series of breakthrough for image classification. Many other visual recognition tasks have also greatly benefited from very deep models. So, over the years there is a trend to go more deeper, to solve more complex tasks and to also increase/improve the classification/recognition accuracy. But, as we go deeper; the traning of neural network becomes difficult and also the accuracy starts saturating and then degrades also. Residual Learning tries to solve both these problems.\n",
        "\n",
        "Here, for classification of Devanagari Handwritten digits (a.k.a. Nepali handwritten digits) ResNet50 network architecture is used.\n",
        "\n",
        "ResNet50 is a 50 layer Residual Network. For further description about the architecture you can <a href=\"https://arxiv.org/pdf/1512.03385.pdf\">click here.</a>\n"
      ]
    },
    {
      "cell_type": "markdown",
      "metadata": {
        "id": "-OU9G5DWBJRa",
        "colab_type": "text"
      },
      "source": [
        "## Importing Libraries"
      ]
    },
    {
      "cell_type": "code",
      "metadata": {
        "id": "BeweFeUcBNYH",
        "colab_type": "code",
        "colab": {}
      },
      "source": [
        "import numpy as np\n",
        "import pandas as pd\n",
        "import os\n",
        "import torch\n",
        "import torchvision\n",
        "import torchvision.transforms as transforms\n",
        "from torch.utils.data import DataLoader, Dataset\n",
        "import torch.nn as nn\n",
        "from PIL import Image\n",
        "import matplotlib.pyplot as plt\n",
        "import torchvision.models as models\n",
        "import torch.nn.functional as F\n",
        "from torchsummary import summary\n",
        "\n",
        "import warnings\n",
        "warnings.filterwarnings('ignore')"
      ],
      "execution_count": 0,
      "outputs": []
    },
    {
      "cell_type": "markdown",
      "metadata": {
        "id": "DzSlQQZFBizH",
        "colab_type": "text"
      },
      "source": [
        "## Mounting Google Drive"
      ]
    },
    {
      "cell_type": "code",
      "metadata": {
        "id": "wh8nigH7BnYw",
        "colab_type": "code",
        "outputId": "b6dfcb95-eedf-4afb-c202-c638fe61b7a9",
        "colab": {
          "base_uri": "https://localhost:8080/",
          "height": 122
        }
      },
      "source": [
        "from google.colab import drive\n",
        "drive.mount('/content/gdrive')"
      ],
      "execution_count": 0,
      "outputs": [
        {
          "output_type": "stream",
          "text": [
            "Go to this URL in a browser: https://accounts.google.com/o/oauth2/auth?client_id=947318989803-6bn6qk8qdgf4n4g3pfee6491hc0brc4i.apps.googleusercontent.com&redirect_uri=urn%3Aietf%3Awg%3Aoauth%3A2.0%3Aoob&scope=email%20https%3A%2F%2Fwww.googleapis.com%2Fauth%2Fdocs.test%20https%3A%2F%2Fwww.googleapis.com%2Fauth%2Fdrive%20https%3A%2F%2Fwww.googleapis.com%2Fauth%2Fdrive.photos.readonly%20https%3A%2F%2Fwww.googleapis.com%2Fauth%2Fpeopleapi.readonly&response_type=code\n",
            "\n",
            "Enter your authorization code:\n",
            "··········\n",
            "Mounted at /content/gdrive\n"
          ],
          "name": "stdout"
        }
      ]
    },
    {
      "cell_type": "markdown",
      "metadata": {
        "id": "azy6UfA1B-uM",
        "colab_type": "text"
      },
      "source": [
        "## Runtime Type to GPU"
      ]
    },
    {
      "cell_type": "code",
      "metadata": {
        "id": "zU4JkzfiCMSo",
        "colab_type": "code",
        "outputId": "c6b5d379-23ae-46e1-dd78-871ae2f3ea17",
        "colab": {
          "base_uri": "https://localhost:8080/",
          "height": 34
        }
      },
      "source": [
        "device = torch.device(\"cuda\" if torch.cuda.is_available() else \"cpu\")\n",
        "print(device)"
      ],
      "execution_count": 0,
      "outputs": [
        {
          "output_type": "stream",
          "text": [
            "cuda\n"
          ],
          "name": "stdout"
        }
      ]
    },
    {
      "cell_type": "markdown",
      "metadata": {
        "id": "-DX37uLgCkGl",
        "colab_type": "text"
      },
      "source": [
        "### Creating Train/Test Directory"
      ]
    },
    {
      "cell_type": "code",
      "metadata": {
        "id": "NRYUpeP-Cm0f",
        "colab_type": "code",
        "colab": {}
      },
      "source": [
        "!mkdir Train\n",
        "!mkdir Test"
      ],
      "execution_count": 0,
      "outputs": []
    },
    {
      "cell_type": "markdown",
      "metadata": {
        "id": "yzeewqciDBWT",
        "colab_type": "text"
      },
      "source": [
        "## Extracting the Train/Test from drive"
      ]
    },
    {
      "cell_type": "code",
      "metadata": {
        "id": "kPfhRpoODGMb",
        "colab_type": "code",
        "colab": {}
      },
      "source": [
        "!tar -xf \"gdrive/My Drive/Colab Notebooks/devnagari/dataset/Train.tar.xz\" -C \"Train\"\n",
        "!tar -xf \"gdrive/My Drive/Colab Notebooks/devnagari/dataset/Test.tar.xz\" -C \"Test\""
      ],
      "execution_count": 0,
      "outputs": []
    },
    {
      "cell_type": "code",
      "metadata": {
        "id": "-CFFWc0LDaAd",
        "colab_type": "code",
        "colab": {}
      },
      "source": [
        "# CSV file path which contains Image name and respective image label\n",
        "train_csv_path = \"Train/trainset.csv\"\n",
        "test_csv_path = \"Test/testset.csv\""
      ],
      "execution_count": 0,
      "outputs": []
    },
    {
      "cell_type": "code",
      "metadata": {
        "id": "hGd5Xg4wD823",
        "colab_type": "code",
        "colab": {}
      },
      "source": [
        "# Reading CSV contents using pandas as pandas' dataframe\n",
        "train_set_df = pd.read_csv(train_csv_path)\n",
        "test_set_df = pd.read_csv(test_csv_path)"
      ],
      "execution_count": 0,
      "outputs": []
    },
    {
      "cell_type": "markdown",
      "metadata": {
        "id": "rVNgo4ZMEYia",
        "colab_type": "text"
      },
      "source": [
        "## Data Preprocessing"
      ]
    },
    {
      "cell_type": "code",
      "metadata": {
        "id": "4Zao1gBQEaNc",
        "colab_type": "code",
        "colab": {}
      },
      "source": [
        "from sklearn.preprocessing import LabelEncoder"
      ],
      "execution_count": 0,
      "outputs": []
    },
    {
      "cell_type": "code",
      "metadata": {
        "id": "Qc69T3EjEeBE",
        "colab_type": "code",
        "colab": {}
      },
      "source": [
        "# converting pandas dataframe into numpy arrays\n",
        "train_set_array = train_set_df.values\n",
        "test_set_array = test_set_df.values\n",
        "\n",
        "# initializing the instance of LabelEncoder\n",
        "labelEncode = LabelEncoder()\n",
        "\n",
        "# Encoding the labels\n",
        "train_set_array[:, 1] = labelEncode.fit_transform(train_set_array[:, 1])\n",
        "test_set_array[:, 1] = labelEncode.fit_transform(test_set_array[:, 1])"
      ],
      "execution_count": 0,
      "outputs": []
    },
    {
      "cell_type": "code",
      "metadata": {
        "id": "BZxWWvoYFEln",
        "colab_type": "code",
        "outputId": "1187e4bc-9384-4d52-b39a-2c4d5a132a59",
        "colab": {
          "base_uri": "https://localhost:8080/",
          "height": 34
        }
      },
      "source": [
        "# Converting numpy array back to pandas dataframe\n",
        "train_set = pd.DataFrame(train_set_array)\n",
        "print(\"Trainset shape is: \", train_set.shape)"
      ],
      "execution_count": 0,
      "outputs": [
        {
          "output_type": "stream",
          "text": [
            "Trainset shape is:  (78199, 2)\n"
          ],
          "name": "stdout"
        }
      ]
    },
    {
      "cell_type": "code",
      "metadata": {
        "id": "mafK_yTcFPU_",
        "colab_type": "code",
        "colab": {}
      },
      "source": [
        "# Counting number of data available for each label\n",
        "# Making sure that the available data is uniformly distributed\n",
        "pd.value_counts(train_set[1].values, sort=False)"
      ],
      "execution_count": 0,
      "outputs": []
    },
    {
      "cell_type": "code",
      "metadata": {
        "id": "R4i5ZskMF4UG",
        "colab_type": "code",
        "outputId": "1b49d26e-6810-4f52-d44c-4e95b9a83d27",
        "colab": {
          "base_uri": "https://localhost:8080/",
          "height": 221
        }
      },
      "source": [
        "test_set = pd.DataFrame(test_set_array)\n",
        "print(\"Testset Shape is: \", test_set.shape)\n",
        "test_set.tail()"
      ],
      "execution_count": 79,
      "outputs": [
        {
          "output_type": "stream",
          "text": [
            "Testset Shape is:  (27599, 2)\n"
          ],
          "name": "stdout"
        },
        {
          "output_type": "execute_result",
          "data": {
            "text/html": [
              "<div>\n",
              "<style scoped>\n",
              "    .dataframe tbody tr th:only-of-type {\n",
              "        vertical-align: middle;\n",
              "    }\n",
              "\n",
              "    .dataframe tbody tr th {\n",
              "        vertical-align: top;\n",
              "    }\n",
              "\n",
              "    .dataframe thead th {\n",
              "        text-align: right;\n",
              "    }\n",
              "</style>\n",
              "<table border=\"1\" class=\"dataframe\">\n",
              "  <thead>\n",
              "    <tr style=\"text-align: right;\">\n",
              "      <th></th>\n",
              "      <th>0</th>\n",
              "      <th>1</th>\n",
              "    </tr>\n",
              "  </thead>\n",
              "  <tbody>\n",
              "    <tr>\n",
              "      <th>27594</th>\n",
              "      <td>56844.png</td>\n",
              "      <td>45</td>\n",
              "    </tr>\n",
              "    <tr>\n",
              "      <th>27595</th>\n",
              "      <td>99796.png</td>\n",
              "      <td>45</td>\n",
              "    </tr>\n",
              "    <tr>\n",
              "      <th>27596</th>\n",
              "      <td>99777.png</td>\n",
              "      <td>45</td>\n",
              "    </tr>\n",
              "    <tr>\n",
              "      <th>27597</th>\n",
              "      <td>99786.png</td>\n",
              "      <td>45</td>\n",
              "    </tr>\n",
              "    <tr>\n",
              "      <th>27598</th>\n",
              "      <td>68544.png</td>\n",
              "      <td>45</td>\n",
              "    </tr>\n",
              "  </tbody>\n",
              "</table>\n",
              "</div>"
            ],
            "text/plain": [
              "               0   1\n",
              "27594  56844.png  45\n",
              "27595  99796.png  45\n",
              "27596  99777.png  45\n",
              "27597  99786.png  45\n",
              "27598  68544.png  45"
            ]
          },
          "metadata": {
            "tags": []
          },
          "execution_count": 79
        }
      ]
    },
    {
      "cell_type": "markdown",
      "metadata": {
        "id": "Nio1OeeGGz37",
        "colab_type": "text"
      },
      "source": [
        "## Validation Dataset"
      ]
    },
    {
      "cell_type": "code",
      "metadata": {
        "id": "xjxa3nGsG2Gy",
        "colab_type": "code",
        "colab": {}
      },
      "source": [
        "# selecting 25% random sample from train dataset\n",
        "val_set = train_set.sample(frac=0.25)"
      ],
      "execution_count": 0,
      "outputs": []
    },
    {
      "cell_type": "code",
      "metadata": {
        "id": "yxOv_KEZInwc",
        "colab_type": "code",
        "outputId": "acfac072-5a5c-435d-a829-7f467c85a65a",
        "colab": {
          "base_uri": "https://localhost:8080/",
          "height": 456
        }
      },
      "source": [
        "each_class_values = pd.value_counts(val_set[1].values, sort=True)\n",
        "print(\"The mean of the distribution is: \", each_class_values.mean(axis=0))\n",
        "print(\"The standard deviation is: \", each_class_values.std(axis=0))\n",
        "print(\"The median of dataset is: \", each_class_values.median(axis=0))\n",
        "print(\"The mode of dataset is: \", each_class_values.mode())\n",
        "print(\"The Range of distribution is: \", each_class_values.max() - each_class_values.min())\n",
        "each_class_values.hist()"
      ],
      "execution_count": 0,
      "outputs": [
        {
          "output_type": "stream",
          "text": [
            "The mean of the distribution is:  425.0\n",
            "The standard deviation is:  14.62114146630754\n",
            "The median of dataset is:  426.0\n",
            "The mode of dataset is:  0    420\n",
            "1    422\n",
            "2    429\n",
            "3    430\n",
            "4    439\n",
            "dtype: int64\n",
            "The Range of distribution is:  79\n"
          ],
          "name": "stdout"
        },
        {
          "output_type": "execute_result",
          "data": {
            "text/plain": [
              "<matplotlib.axes._subplots.AxesSubplot at 0x7ff9ec73e668>"
            ]
          },
          "metadata": {
            "tags": []
          },
          "execution_count": 81
        },
        {
          "output_type": "display_data",
          "data": {
            "image/png": "[encoded data removed]",
            "text/plain": [
              "<Figure size 432x288 with 1 Axes>"
            ]
          },
          "metadata": {
            "tags": []
          }
        }
      ]
    },
    {
      "cell_type": "code",
      "metadata": {
        "id": "CZ7lm8nVHECP",
        "colab_type": "code",
        "colab": {}
      },
      "source": [
        "# removing the data from Train set that are taken for validation\n",
        "train_set = train_set.drop(val_set.index)"
      ],
      "execution_count": 0,
      "outputs": []
    },
    {
      "cell_type": "code",
      "metadata": {
        "id": "8PgV7-xNJIvV",
        "colab_type": "code",
        "outputId": "6eaea4c7-ec8b-4b94-a8f3-0a834ea79762",
        "colab": {
          "base_uri": "https://localhost:8080/",
          "height": 34
        }
      },
      "source": [
        "print(\"Validation Set Shape is: \", val_set.shape)"
      ],
      "execution_count": 0,
      "outputs": [
        {
          "output_type": "stream",
          "text": [
            "Validation Set Shape is:  (19550, 2)\n"
          ],
          "name": "stdout"
        }
      ]
    },
    {
      "cell_type": "markdown",
      "metadata": {
        "id": "wNaTDG6dJeLr",
        "colab_type": "text"
      },
      "source": [
        "## Image Manipulation/Data Augmentation"
      ]
    },
    {
      "cell_type": "code",
      "metadata": {
        "id": "gAZJAAzXJhzT",
        "colab_type": "code",
        "colab": {}
      },
      "source": [
        "# Location of Images of Train & Test sets.\n",
        "TRAIN_DATA_PATH = \"Train/trainset\"\n",
        "TEST_DATA_PATH = \"Test/testset\""
      ],
      "execution_count": 0,
      "outputs": []
    },
    {
      "cell_type": "code",
      "metadata": {
        "id": "uDBGWh_xJrGk",
        "colab_type": "code",
        "colab": {}
      },
      "source": [
        "# Data augmentation\n",
        "# Normalization metrics are taken from ImageNet documentation\n",
        "# Dataset is in Grayscale with 1 channel\n",
        "# Converting the grascale with 1 channel into 3 channels\n",
        "# ResNet50 architecture needs 3 image channels as input\n",
        "\n",
        "TRANSFORM_IMG_train = transforms.Compose([\n",
        "      transforms.Grayscale(num_output_channels=3),\n",
        "      transforms.ToTensor(),\n",
        "      transforms.Normalize(mean = [0.485, 0.456, 0.406],\n",
        "                            std = [0.229, 0.224, 0.225])\n",
        "])\n",
        "\n",
        "TRANSFORM_IMG_test = transforms.Compose([\n",
        "      transforms.Grayscale(num_output_channels=3),\n",
        "      transforms.ToTensor(),\n",
        "      transforms.Normalize(mean = [0.485, 0.456, 0.406],\n",
        "                          std = [0.229, 0.224, 0.225])\n",
        "])"
      ],
      "execution_count": 0,
      "outputs": []
    },
    {
      "cell_type": "markdown",
      "metadata": {
        "id": "Zbtz1yQaMzkg",
        "colab_type": "text"
      },
      "source": [
        "## Conversion of Image into Tensor"
      ]
    },
    {
      "cell_type": "code",
      "metadata": {
        "id": "YrtbUk0-MaXZ",
        "colab_type": "code",
        "colab": {}
      },
      "source": [
        "# Loading images and their label as tensor\n",
        "# converting image to tensor using PIL.Image\n",
        "\n",
        "class Devanagari_Data_Load(Dataset):\n",
        "\n",
        "  def __init__(self, data_dir_path, pd_df, img_transform):\n",
        "    self.data_dir_path = data_dir_path\n",
        "    self.df = pd_df\n",
        "    self.img_transform = img_transform\n",
        "\n",
        "  # required for shuffling\n",
        "  def __len__(self):\n",
        "    return len(self.df)\n",
        "\n",
        "  def __getitem__(self, index):\n",
        "    df_row = self.df.iloc[index, :]\n",
        "    img_name = df_row[0]\n",
        "    img_path = os.path.join(self.data_dir_path, img_name)\n",
        "    image = Image.open(img_path)\n",
        "    image = self.img_transform(image)\n",
        "    label = df_row[1]\n",
        "    return (image, label)"
      ],
      "execution_count": 0,
      "outputs": []
    },
    {
      "cell_type": "code",
      "metadata": {
        "id": "s9Wba_nqONO2",
        "colab_type": "code",
        "colab": {}
      },
      "source": [
        "# converting images into tensor data of image and label\n",
        "train_dataset = Devanagari_Data_Load(TRAIN_DATA_PATH, train_set, TRANSFORM_IMG_train)\n",
        "val_dataset = Devanagari_Data_Load(TRAIN_DATA_PATH, val_set, TRANSFORM_IMG_test)\n",
        "test_dataset = Devanagari_Data_Load(TEST_DATA_PATH, test_set, TRANSFORM_IMG_test)"
      ],
      "execution_count": 0,
      "outputs": []
    },
    {
      "cell_type": "code",
      "metadata": {
        "id": "KknRXDg1Ud06",
        "colab_type": "code",
        "colab": {}
      },
      "source": [
        "# creating iterator object of DataLoader for creating batchsize\n",
        "# assigning 8 cores with data shuffling\n",
        "batch_size = 16\n",
        "train_data_loader = DataLoader(train_dataset, batch_size=batch_size, shuffle=True,  num_workers=4)\n",
        "val_data_loader = DataLoader(val_dataset, batch_size=batch_size, shuffle=True,  num_workers=4)\n",
        "test_data_loader = DataLoader(test_dataset, batch_size=batch_size, shuffle=True,  num_workers=4)\n"
      ],
      "execution_count": 0,
      "outputs": []
    },
    {
      "cell_type": "markdown",
      "metadata": {
        "id": "tPE3dCkkO04e",
        "colab_type": "text"
      },
      "source": [
        "### ResNet50 Model"
      ]
    },
    {
      "cell_type": "code",
      "metadata": {
        "id": "ZkY3MCEYO4kI",
        "colab_type": "code",
        "outputId": "cab8c911-a992-481f-9dbc-34b6b2510754",
        "colab": {
          "base_uri": "https://localhost:8080/",
          "height": 1000
        }
      },
      "source": [
        "# using resnet50 pretrained architecture to train model\n",
        "model = models.resnet50(pretrained=True)\n",
        "\n",
        "# modifying output fully connected layer to our requirement.\n",
        "model.fc.out_features = 46\n",
        "\n",
        "# assigning model to GPU\n",
        "model.to(device)"
      ],
      "execution_count": 0,
      "outputs": [
        {
          "output_type": "stream",
          "text": [
            "Downloading: \"https://download.pytorch.org/models/resnet50-19c8e357.pth\" to /root/.cache/torch/checkpoints/resnet50-19c8e357.pth\n",
            "100%|██████████| 97.8M/97.8M [00:01<00:00, 54.5MB/s]\n"
          ],
          "name": "stderr"
        },
        {
          "output_type": "execute_result",
          "data": {
            "text/plain": [
              "ResNet(\n",
              "  (conv1): Conv2d(3, 64, kernel_size=(7, 7), stride=(2, 2), padding=(3, 3), bias=False)\n",
              "  (bn1): BatchNorm2d(64, eps=1e-05, momentum=0.1, affine=True, track_running_stats=True)\n",
              "  (relu): ReLU(inplace=True)\n",
              "  (maxpool): MaxPool2d(kernel_size=3, stride=2, padding=1, dilation=1, ceil_mode=False)\n",
              "  (layer1): Sequential(\n",
              "    (0): Bottleneck(\n",
              "      (conv1): Conv2d(64, 64, kernel_size=(1, 1), stride=(1, 1), bias=False)\n",
              "      (bn1): BatchNorm2d(64, eps=1e-05, momentum=0.1, affine=True, track_running_stats=True)\n",
              "      (conv2): Conv2d(64, 64, kernel_size=(3, 3), stride=(1, 1), padding=(1, 1), bias=False)\n",
              "      (bn2): BatchNorm2d(64, eps=1e-05, momentum=0.1, affine=True, track_running_stats=True)\n",
              "      (conv3): Conv2d(64, 256, kernel_size=(1, 1), stride=(1, 1), bias=False)\n",
              "      (bn3): BatchNorm2d(256, eps=1e-05, momentum=0.1, affine=True, track_running_stats=True)\n",
              "      (relu): ReLU(inplace=True)\n",
              "      (downsample): Sequential(\n",
              "        (0): Conv2d(64, 256, kernel_size=(1, 1), stride=(1, 1), bias=False)\n",
              "        (1): BatchNorm2d(256, eps=1e-05, momentum=0.1, affine=True, track_running_stats=True)\n",
              "      )\n",
              "    )\n",
              "    (1): Bottleneck(\n",
              "      (conv1): Conv2d(256, 64, kernel_size=(1, 1), stride=(1, 1), bias=False)\n",
              "      (bn1): BatchNorm2d(64, eps=1e-05, momentum=0.1, affine=True, track_running_stats=True)\n",
              "      (conv2): Conv2d(64, 64, kernel_size=(3, 3), stride=(1, 1), padding=(1, 1), bias=False)\n",
              "      (bn2): BatchNorm2d(64, eps=1e-05, momentum=0.1, affine=True, track_running_stats=True)\n",
              "      (conv3): Conv2d(64, 256, kernel_size=(1, 1), stride=(1, 1), bias=False)\n",
              "      (bn3): BatchNorm2d(256, eps=1e-05, momentum=0.1, affine=True, track_running_stats=True)\n",
              "      (relu): ReLU(inplace=True)\n",
              "    )\n",
              "    (2): Bottleneck(\n",
              "      (conv1): Conv2d(256, 64, kernel_size=(1, 1), stride=(1, 1), bias=False)\n",
              "      (bn1): BatchNorm2d(64, eps=1e-05, momentum=0.1, affine=True, track_running_stats=True)\n",
              "      (conv2): Conv2d(64, 64, kernel_size=(3, 3), stride=(1, 1), padding=(1, 1), bias=False)\n",
              "      (bn2): BatchNorm2d(64, eps=1e-05, momentum=0.1, affine=True, track_running_stats=True)\n",
              "      (conv3): Conv2d(64, 256, kernel_size=(1, 1), stride=(1, 1), bias=False)\n",
              "      (bn3): BatchNorm2d(256, eps=1e-05, momentum=0.1, affine=True, track_running_stats=True)\n",
              "      (relu): ReLU(inplace=True)\n",
              "    )\n",
              "  )\n",
              "  (layer2): Sequential(\n",
              "    (0): Bottleneck(\n",
              "      (conv1): Conv2d(256, 128, kernel_size=(1, 1), stride=(1, 1), bias=False)\n",
              "      (bn1): BatchNorm2d(128, eps=1e-05, momentum=0.1, affine=True, track_running_stats=True)\n",
              "      (conv2): Conv2d(128, 128, kernel_size=(3, 3), stride=(2, 2), padding=(1, 1), bias=False)\n",
              "      (bn2): BatchNorm2d(128, eps=1e-05, momentum=0.1, affine=True, track_running_stats=True)\n",
              "      (conv3): Conv2d(128, 512, kernel_size=(1, 1), stride=(1, 1), bias=False)\n",
              "      (bn3): BatchNorm2d(512, eps=1e-05, momentum=0.1, affine=True, track_running_stats=True)\n",
              "      (relu): ReLU(inplace=True)\n",
              "      (downsample): Sequential(\n",
              "        (0): Conv2d(256, 512, kernel_size=(1, 1), stride=(2, 2), bias=False)\n",
              "        (1): BatchNorm2d(512, eps=1e-05, momentum=0.1, affine=True, track_running_stats=True)\n",
              "      )\n",
              "    )\n",
              "    (1): Bottleneck(\n",
              "      (conv1): Conv2d(512, 128, kernel_size=(1, 1), stride=(1, 1), bias=False)\n",
              "      (bn1): BatchNorm2d(128, eps=1e-05, momentum=0.1, affine=True, track_running_stats=True)\n",
              "      (conv2): Conv2d(128, 128, kernel_size=(3, 3), stride=(1, 1), padding=(1, 1), bias=False)\n",
              "      (bn2): BatchNorm2d(128, eps=1e-05, momentum=0.1, affine=True, track_running_stats=True)\n",
              "      (conv3): Conv2d(128, 512, kernel_size=(1, 1), stride=(1, 1), bias=False)\n",
              "      (bn3): BatchNorm2d(512, eps=1e-05, momentum=0.1, affine=True, track_running_stats=True)\n",
              "      (relu): ReLU(inplace=True)\n",
              "    )\n",
              "    (2): Bottleneck(\n",
              "      (conv1): Conv2d(512, 128, kernel_size=(1, 1), stride=(1, 1), bias=False)\n",
              "      (bn1): BatchNorm2d(128, eps=1e-05, momentum=0.1, affine=True, track_running_stats=True)\n",
              "      (conv2): Conv2d(128, 128, kernel_size=(3, 3), stride=(1, 1), padding=(1, 1), bias=False)\n",
              "      (bn2): BatchNorm2d(128, eps=1e-05, momentum=0.1, affine=True, track_running_stats=True)\n",
              "      (conv3): Conv2d(128, 512, kernel_size=(1, 1), stride=(1, 1), bias=False)\n",
              "      (bn3): BatchNorm2d(512, eps=1e-05, momentum=0.1, affine=True, track_running_stats=True)\n",
              "      (relu): ReLU(inplace=True)\n",
              "    )\n",
              "    (3): Bottleneck(\n",
              "      (conv1): Conv2d(512, 128, kernel_size=(1, 1), stride=(1, 1), bias=False)\n",
              "      (bn1): BatchNorm2d(128, eps=1e-05, momentum=0.1, affine=True, track_running_stats=True)\n",
              "      (conv2): Conv2d(128, 128, kernel_size=(3, 3), stride=(1, 1), padding=(1, 1), bias=False)\n",
              "      (bn2): BatchNorm2d(128, eps=1e-05, momentum=0.1, affine=True, track_running_stats=True)\n",
              "      (conv3): Conv2d(128, 512, kernel_size=(1, 1), stride=(1, 1), bias=False)\n",
              "      (bn3): BatchNorm2d(512, eps=1e-05, momentum=0.1, affine=True, track_running_stats=True)\n",
              "      (relu): ReLU(inplace=True)\n",
              "    )\n",
              "  )\n",
              "  (layer3): Sequential(\n",
              "    (0): Bottleneck(\n",
              "      (conv1): Conv2d(512, 256, kernel_size=(1, 1), stride=(1, 1), bias=False)\n",
              "      (bn1): BatchNorm2d(256, eps=1e-05, momentum=0.1, affine=True, track_running_stats=True)\n",
              "      (conv2): Conv2d(256, 256, kernel_size=(3, 3), stride=(2, 2), padding=(1, 1), bias=False)\n",
              "      (bn2): BatchNorm2d(256, eps=1e-05, momentum=0.1, affine=True, track_running_stats=True)\n",
              "      (conv3): Conv2d(256, 1024, kernel_size=(1, 1), stride=(1, 1), bias=False)\n",
              "      (bn3): BatchNorm2d(1024, eps=1e-05, momentum=0.1, affine=True, track_running_stats=True)\n",
              "      (relu): ReLU(inplace=True)\n",
              "      (downsample): Sequential(\n",
              "        (0): Conv2d(512, 1024, kernel_size=(1, 1), stride=(2, 2), bias=False)\n",
              "        (1): BatchNorm2d(1024, eps=1e-05, momentum=0.1, affine=True, track_running_stats=True)\n",
              "      )\n",
              "    )\n",
              "    (1): Bottleneck(\n",
              "      (conv1): Conv2d(1024, 256, kernel_size=(1, 1), stride=(1, 1), bias=False)\n",
              "      (bn1): BatchNorm2d(256, eps=1e-05, momentum=0.1, affine=True, track_running_stats=True)\n",
              "      (conv2): Conv2d(256, 256, kernel_size=(3, 3), stride=(1, 1), padding=(1, 1), bias=False)\n",
              "      (bn2): BatchNorm2d(256, eps=1e-05, momentum=0.1, affine=True, track_running_stats=True)\n",
              "      (conv3): Conv2d(256, 1024, kernel_size=(1, 1), stride=(1, 1), bias=False)\n",
              "      (bn3): BatchNorm2d(1024, eps=1e-05, momentum=0.1, affine=True, track_running_stats=True)\n",
              "      (relu): ReLU(inplace=True)\n",
              "    )\n",
              "    (2): Bottleneck(\n",
              "      (conv1): Conv2d(1024, 256, kernel_size=(1, 1), stride=(1, 1), bias=False)\n",
              "      (bn1): BatchNorm2d(256, eps=1e-05, momentum=0.1, affine=True, track_running_stats=True)\n",
              "      (conv2): Conv2d(256, 256, kernel_size=(3, 3), stride=(1, 1), padding=(1, 1), bias=False)\n",
              "      (bn2): BatchNorm2d(256, eps=1e-05, momentum=0.1, affine=True, track_running_stats=True)\n",
              "      (conv3): Conv2d(256, 1024, kernel_size=(1, 1), stride=(1, 1), bias=False)\n",
              "      (bn3): BatchNorm2d(1024, eps=1e-05, momentum=0.1, affine=True, track_running_stats=True)\n",
              "      (relu): ReLU(inplace=True)\n",
              "    )\n",
              "    (3): Bottleneck(\n",
              "      (conv1): Conv2d(1024, 256, kernel_size=(1, 1), stride=(1, 1), bias=False)\n",
              "      (bn1): BatchNorm2d(256, eps=1e-05, momentum=0.1, affine=True, track_running_stats=True)\n",
              "      (conv2): Conv2d(256, 256, kernel_size=(3, 3), stride=(1, 1), padding=(1, 1), bias=False)\n",
              "      (bn2): BatchNorm2d(256, eps=1e-05, momentum=0.1, affine=True, track_running_stats=True)\n",
              "      (conv3): Conv2d(256, 1024, kernel_size=(1, 1), stride=(1, 1), bias=False)\n",
              "      (bn3): BatchNorm2d(1024, eps=1e-05, momentum=0.1, affine=True, track_running_stats=True)\n",
              "      (relu): ReLU(inplace=True)\n",
              "    )\n",
              "    (4): Bottleneck(\n",
              "      (conv1): Conv2d(1024, 256, kernel_size=(1, 1), stride=(1, 1), bias=False)\n",
              "      (bn1): BatchNorm2d(256, eps=1e-05, momentum=0.1, affine=True, track_running_stats=True)\n",
              "      (conv2): Conv2d(256, 256, kernel_size=(3, 3), stride=(1, 1), padding=(1, 1), bias=False)\n",
              "      (bn2): BatchNorm2d(256, eps=1e-05, momentum=0.1, affine=True, track_running_stats=True)\n",
              "      (conv3): Conv2d(256, 1024, kernel_size=(1, 1), stride=(1, 1), bias=False)\n",
              "      (bn3): BatchNorm2d(1024, eps=1e-05, momentum=0.1, affine=True, track_running_stats=True)\n",
              "      (relu): ReLU(inplace=True)\n",
              "    )\n",
              "    (5): Bottleneck(\n",
              "      (conv1): Conv2d(1024, 256, kernel_size=(1, 1), stride=(1, 1), bias=False)\n",
              "      (bn1): BatchNorm2d(256, eps=1e-05, momentum=0.1, affine=True, track_running_stats=True)\n",
              "      (conv2): Conv2d(256, 256, kernel_size=(3, 3), stride=(1, 1), padding=(1, 1), bias=False)\n",
              "      (bn2): BatchNorm2d(256, eps=1e-05, momentum=0.1, affine=True, track_running_stats=True)\n",
              "      (conv3): Conv2d(256, 1024, kernel_size=(1, 1), stride=(1, 1), bias=False)\n",
              "      (bn3): BatchNorm2d(1024, eps=1e-05, momentum=0.1, affine=True, track_running_stats=True)\n",
              "      (relu): ReLU(inplace=True)\n",
              "    )\n",
              "  )\n",
              "  (layer4): Sequential(\n",
              "    (0): Bottleneck(\n",
              "      (conv1): Conv2d(1024, 512, kernel_size=(1, 1), stride=(1, 1), bias=False)\n",
              "      (bn1): BatchNorm2d(512, eps=1e-05, momentum=0.1, affine=True, track_running_stats=True)\n",
              "      (conv2): Conv2d(512, 512, kernel_size=(3, 3), stride=(2, 2), padding=(1, 1), bias=False)\n",
              "      (bn2): BatchNorm2d(512, eps=1e-05, momentum=0.1, affine=True, track_running_stats=True)\n",
              "      (conv3): Conv2d(512, 2048, kernel_size=(1, 1), stride=(1, 1), bias=False)\n",
              "      (bn3): BatchNorm2d(2048, eps=1e-05, momentum=0.1, affine=True, track_running_stats=True)\n",
              "      (relu): ReLU(inplace=True)\n",
              "      (downsample): Sequential(\n",
              "        (0): Conv2d(1024, 2048, kernel_size=(1, 1), stride=(2, 2), bias=False)\n",
              "        (1): BatchNorm2d(2048, eps=1e-05, momentum=0.1, affine=True, track_running_stats=True)\n",
              "      )\n",
              "    )\n",
              "    (1): Bottleneck(\n",
              "      (conv1): Conv2d(2048, 512, kernel_size=(1, 1), stride=(1, 1), bias=False)\n",
              "      (bn1): BatchNorm2d(512, eps=1e-05, momentum=0.1, affine=True, track_running_stats=True)\n",
              "      (conv2): Conv2d(512, 512, kernel_size=(3, 3), stride=(1, 1), padding=(1, 1), bias=False)\n",
              "      (bn2): BatchNorm2d(512, eps=1e-05, momentum=0.1, affine=True, track_running_stats=True)\n",
              "      (conv3): Conv2d(512, 2048, kernel_size=(1, 1), stride=(1, 1), bias=False)\n",
              "      (bn3): BatchNorm2d(2048, eps=1e-05, momentum=0.1, affine=True, track_running_stats=True)\n",
              "      (relu): ReLU(inplace=True)\n",
              "    )\n",
              "    (2): Bottleneck(\n",
              "      (conv1): Conv2d(2048, 512, kernel_size=(1, 1), stride=(1, 1), bias=False)\n",
              "      (bn1): BatchNorm2d(512, eps=1e-05, momentum=0.1, affine=True, track_running_stats=True)\n",
              "      (conv2): Conv2d(512, 512, kernel_size=(3, 3), stride=(1, 1), padding=(1, 1), bias=False)\n",
              "      (bn2): BatchNorm2d(512, eps=1e-05, momentum=0.1, affine=True, track_running_stats=True)\n",
              "      (conv3): Conv2d(512, 2048, kernel_size=(1, 1), stride=(1, 1), bias=False)\n",
              "      (bn3): BatchNorm2d(2048, eps=1e-05, momentum=0.1, affine=True, track_running_stats=True)\n",
              "      (relu): ReLU(inplace=True)\n",
              "    )\n",
              "  )\n",
              "  (avgpool): AdaptiveAvgPool2d(output_size=(1, 1))\n",
              "  (fc): Linear(in_features=2048, out_features=46, bias=True)\n",
              ")"
            ]
          },
          "metadata": {
            "tags": []
          },
          "execution_count": 28
        }
      ]
    },
    {
      "cell_type": "markdown",
      "metadata": {
        "id": "Pf7eub84PWQO",
        "colab_type": "text"
      },
      "source": [
        "## Initializing Parameters\n"
      ]
    },
    {
      "cell_type": "code",
      "metadata": {
        "id": "ExKf3qupPZYj",
        "colab_type": "code",
        "colab": {}
      },
      "source": [
        "epochs = 10\n",
        "losses = nn.CrossEntropyLoss()\n",
        "learning_rate = 1.5e-6\n",
        "optimizer = torch.optim.Adam(model.parameters(), lr = learning_rate)"
      ],
      "execution_count": 0,
      "outputs": []
    },
    {
      "cell_type": "markdown",
      "metadata": {
        "id": "AZ58JR8XStTH",
        "colab_type": "text"
      },
      "source": [
        "## Loss and Accuracy"
      ]
    },
    {
      "cell_type": "code",
      "metadata": {
        "id": "m6b-qy_7Sv6B",
        "colab_type": "code",
        "colab": {}
      },
      "source": [
        "def evaluationMetrics(model, data_loader):\n",
        "\n",
        "  model.eval()\n",
        "  total_loss = 0\n",
        "  total_correct = 0\n",
        "\n",
        "  for i, (img, lbl) in enumerate(data_loader):\n",
        "\n",
        "    correct = 0\n",
        "\n",
        "    img = img.to(device)\n",
        "    lbl = lbl.to(device)\n",
        "\n",
        "    forwardPass = model.forward(img)\n",
        "    modelLoss = losses(forwardPass, lbl).item()\n",
        "    total_loss += modelLoss\n",
        "\n",
        "    max_val, predict_class = torch.max(forwardPass.data, 1)\n",
        "    correct = (predict_class == lbl).sum().item() / len(lbl)\n",
        "    total_correct += correct\n",
        "\n",
        "  return (total_loss/len(data_loader) , (total_correct/len(data_loader)*100))"
      ],
      "execution_count": 0,
      "outputs": []
    },
    {
      "cell_type": "markdown",
      "metadata": {
        "id": "Zg7ecnRJUH4_",
        "colab_type": "text"
      },
      "source": [
        "## Image Properties and Shapes"
      ]
    },
    {
      "cell_type": "code",
      "metadata": {
        "id": "y_AqREnPUKNw",
        "colab_type": "code",
        "outputId": "8f3dc7f4-d6c4-4e97-a673-19c8d74172b4",
        "colab": {
          "base_uri": "https://localhost:8080/",
          "height": 51
        }
      },
      "source": [
        "dataiter = iter(train_data_loader)\n",
        "images, labels = dataiter.next()\n",
        "print(\"The shape of image: {} with batchsize: {} \".format(images.shape, batch_size))\n",
        "print(\"THe shape of label: \", labels.shape)"
      ],
      "execution_count": 0,
      "outputs": [
        {
          "output_type": "stream",
          "text": [
            "The shape of image: torch.Size([16, 3, 32, 32]) with batchsize: 16 \n",
            "THe shape of label:  torch.Size([16])\n"
          ],
          "name": "stdout"
        }
      ]
    },
    {
      "cell_type": "markdown",
      "metadata": {
        "id": "wShtz74WYxbR",
        "colab_type": "text"
      },
      "source": [
        "## Training the Model"
      ]
    },
    {
      "cell_type": "code",
      "metadata": {
        "id": "y5IPVOQdYz0X",
        "colab_type": "code",
        "colab": {}
      },
      "source": [
        "def trainModel(model, optimizer, losses, train_data_loader, epochs):\n",
        "  model.train()\n",
        "\n",
        "  info_all = []\n",
        "  \n",
        "  for epoch in range(epochs):\n",
        "    train_correct = 0\n",
        "    for i, (images, labels) in enumerate(train_data_loader):\n",
        "      correct = 0\n",
        "      # clear gradients\n",
        "      optimizer.zero_grad()\n",
        "\n",
        "      # assigning data and lables to device\n",
        "      images = images.to(device)\n",
        "      labels = labels.to(device)\n",
        "\n",
        "      # Forward Propagation\n",
        "      outputs = model.forward(images)\n",
        "\n",
        "      # calculating loss with softwax to obtain cross entropy loss\n",
        "      loss = losses(outputs, labels)\n",
        "\n",
        "      # Backward propagation\n",
        "      loss.backward()\n",
        "\n",
        "      # Updating gradients\n",
        "      optimizer.step()\n",
        "    \n",
        "    # Looking for loss and accuracy in entire validation set and train set\n",
        "    train_loss, train_acc = evaluationMetrics(model, train_data_loader)\n",
        "    val_loss, val_acc = evaluationMetrics(model, val_data_loader) \n",
        "\n",
        "    # creating a list with info of training and validation, loss and accuracy for each epoch\n",
        "    # useful for plotting the curve of epoch vs loss/accuracy\n",
        "\n",
        "    for_plot = {\n",
        "        \"epoch\": epoch+1,\n",
        "        \"train_loss\":train_loss,\n",
        "        \"train_accuracy\": train_acc,\n",
        "        \"val_loss\":val_loss,\n",
        "        \"val_accuracy\":val_acc\n",
        "    }\n",
        "    info_all.append(for_plot)\n",
        "\n",
        "    # switiching back train mode\n",
        "    # as it was switched to evaluation mode during evaluating Loss & accuracy\n",
        "    model.train()\n",
        "\n",
        "    print('Epoch [{}/{}], TrainingLoss: {:.4f}, TrainingAccuracy: {:.2f}%, ValLoss:{:.4f}, ValAccuracy:{:.2f}%'\n",
        "      .format(epoch+1, epochs, train_loss, train_acc, val_loss, val_acc))\n",
        "    \n",
        "    # Saving the model for each epoch\n",
        "    checkpoint = {\n",
        "        'model': model,\n",
        "        'state_dict': model.state_dict(),\n",
        "        'optimizer': optimizer.state_dict()\n",
        "    }\n",
        "    torch.save(checkpoint, 'devanagari_resnet50_v1.3-epoch{}.pth'.format(epoch+1))\n",
        "    \n",
        "  return (model, optimizer, info_all)"
      ],
      "execution_count": 0,
      "outputs": []
    },
    {
      "cell_type": "code",
      "metadata": {
        "id": "EJo-Dsbabaxh",
        "colab_type": "code",
        "colab": {}
      },
      "source": [
        "(trained_model, optimizer, info_all) = trainModel(model, optimizer, losses, train_data_loader, epochs)"
      ],
      "execution_count": 0,
      "outputs": []
    },
    {
      "cell_type": "markdown",
      "metadata": {
        "id": "C6IMYMexee8G",
        "colab_type": "text"
      },
      "source": [
        "## Saving Model"
      ]
    },
    {
      "cell_type": "code",
      "metadata": {
        "id": "xv4WkxYjegMF",
        "colab_type": "code",
        "colab": {}
      },
      "source": [
        "# creating a checkpoint dictionary, saving model and its state & optimizer state as well\n",
        "# saving dictionary to file, extension .pth, .pt, .pkl\n",
        "\n",
        "checkpoint = {\n",
        "    'model': trained_model,\n",
        "    'state_dict': trained_model.state_dict(),\n",
        "    'optimizer': optimizer.state_dict()\n",
        "}\n",
        "torch.save(checkpoint, 'devanagari_resnet50_v1.3.pth')"
      ],
      "execution_count": 0,
      "outputs": []
    },
    {
      "cell_type": "markdown",
      "metadata": {
        "id": "EpD2O6bXfzfX",
        "colab_type": "text"
      },
      "source": [
        "## Loading Saved Model"
      ]
    },
    {
      "cell_type": "code",
      "metadata": {
        "id": "zVwfEpuJf0vU",
        "colab_type": "code",
        "colab": {}
      },
      "source": [
        "# creating model from saved state and switching it to evaluation mode for inference\n",
        "\n",
        "def load_checkpoint(model_path):\n",
        "  checkpoint = torch.load(model_path)\n",
        "  model = checkpoint[\"model\"]\n",
        "\n",
        "  model.load_state_dict(checkpoint[\"state_dict\"])\n",
        "\n",
        "  for parameter in model.parameters():\n",
        "    parameter.requires_grad=False\n",
        "  \n",
        "  model.eval()\n",
        "  return model\n",
        "\n",
        "my_model = load_checkpoint(\"devanagari_resnet50_v1.3.pth\")"
      ],
      "execution_count": 0,
      "outputs": []
    },
    {
      "cell_type": "markdown",
      "metadata": {
        "id": "TiPzjhWIgc0S",
        "colab_type": "text"
      },
      "source": [
        "## Test Model with TestSet"
      ]
    },
    {
      "cell_type": "code",
      "metadata": {
        "id": "lO7gzaVBggTo",
        "colab_type": "code",
        "outputId": "d8b17a69-5fc5-4f2e-8662-90645d1ed23e",
        "colab": {
          "base_uri": "https://localhost:8080/",
          "height": 34
        }
      },
      "source": [
        "# calculating testset accuracy\n",
        "all_prediction = []\n",
        "all_label = []\n",
        "correct = 0\n",
        "for i, (img, lbl) in enumerate(test_data_loader):\n",
        "  image = img.to(device)\n",
        "  label = lbl.to(device)\n",
        "\n",
        "  output = my_model.forward(image)\n",
        "\n",
        "  max_val, prediction = torch.max(output.data, 1)\n",
        "\n",
        "  #correct += ((prediction==label).sum().item()) / len(label)\n",
        "  correct += (prediction.eq(label).sum().item()) / len(label)\n",
        "  all_prediction.append(prediction)\n",
        "  all_label.append(label)\n",
        "print(\"Test Accuracy: \", correct/len(test_data_loader)*100)"
      ],
      "execution_count": 0,
      "outputs": [
        {
          "output_type": "stream",
          "text": [
            "Test Accuracy:  99.05797101449275\n"
          ],
          "name": "stdout"
        }
      ]
    },
    {
      "cell_type": "markdown",
      "metadata": {
        "id": "Ed6M5gA-Sp7X",
        "colab_type": "text"
      },
      "source": [
        "# Checking for New image"
      ]
    },
    {
      "cell_type": "code",
      "metadata": {
        "id": "M3IyWjfqSP6m",
        "colab_type": "code",
        "colab": {}
      },
      "source": [
        "!mkdir check"
      ],
      "execution_count": 0,
      "outputs": []
    },
    {
      "cell_type": "code",
      "metadata": {
        "id": "cvxxTCnpSuQl",
        "colab_type": "code",
        "colab": {
          "base_uri": "https://localhost:8080/",
          "height": 286
        },
        "outputId": "aea40696-7aa4-4fc3-f0e2-97694e144e07"
      },
      "source": [
        "img_path = \"check/56844.png\"\n",
        "\n",
        "image = Image.open(img_path)\n",
        "plt.imshow(image)\n",
        "# Transformation as defined above\n",
        "transform = transforms.Compose([\n",
        "  transforms.Grayscale(num_output_channels=3),\n",
        "  transforms.ToTensor(),\n",
        "  transforms.Normalize(mean = [0.485, 0.456, 0.406],\n",
        "                      std = [0.229, 0.224, 0.225])\n",
        "])\n",
        "# applying transformation to image\n",
        "imageTensor = transform(image)\n",
        "\n",
        "image = imageTensor.to(device)\n",
        "image.unsqueeze_(0)\n",
        "\n",
        "output = my_model.forward(image)\n",
        "\n",
        "max_val, prediction = torch.max(output.data, 1)\n",
        "\n",
        "print(\"The prediction class of the Image is: \", prediction.item())\n",
        "# Here class 45 is \"nau\"; model predicted correct."
      ],
      "execution_count": 86,
      "outputs": [
        {
          "output_type": "stream",
          "text": [
            "The prediction class of the Image is:  45\n"
          ],
          "name": "stdout"
        },
        {
          "output_type": "display_data",
          "data": {
            "image/png": "[encoded data removed]",
            "text/plain": [
              "<Figure size 432x288 with 1 Axes>"
            ]
          },
          "metadata": {
            "tags": []
          }
        }
      ]
    },
    {
      "cell_type": "code",
      "metadata": {
        "id": "vK9fp-4RUcJV",
        "colab_type": "code",
        "colab": {}
      },
      "source": [
        "# Combining all the prediction to a single array for ploting confusion matrix\n",
        "all_prediction_array = []\n",
        "for i in range(len(all_prediction)):\n",
        "  all_prediction_array.append(all_prediction[i].cpu().numpy().tolist())\n",
        "\n",
        "flat_list_prediction = []\n",
        "for sublist in all_prediction_array:\n",
        "    for item in sublist:\n",
        "        flat_list_prediction.append(item)"
      ],
      "execution_count": 0,
      "outputs": []
    },
    {
      "cell_type": "code",
      "metadata": {
        "id": "ugNKek4HZKiR",
        "colab_type": "code",
        "colab": {}
      },
      "source": [
        "# Combining all the Target values (Labels) to a single array\n",
        "all_label_array = []\n",
        "for i in range(len(all_label)):\n",
        "    all_label_array.append(all_label[i].cpu().numpy().tolist())\n",
        "\n",
        "flat_list_label = []\n",
        "for sublist in all_label_array:\n",
        "    for item in sublist:\n",
        "        flat_list_label.append(item)"
      ],
      "execution_count": 0,
      "outputs": []
    },
    {
      "cell_type": "markdown",
      "metadata": {
        "id": "t7rwAQsPrZ99",
        "colab_type": "text"
      },
      "source": [
        "## Plotting Graph"
      ]
    },
    {
      "cell_type": "code",
      "metadata": {
        "id": "FX8B6sSYrcG-",
        "colab_type": "code",
        "colab": {}
      },
      "source": [
        "# Extracting information of training and validation set from info_all dictionary\n",
        "# it contains train and test loss/accuracy for each epoch\n",
        "train_loss = []\n",
        "train_acc = []\n",
        "val_loss = []\n",
        "val_acc = []\n",
        "\n",
        "for i in info_all:\n",
        "  val_loss.append(i[\"val_loss\"])\n",
        "  val_acc.append(i[\"val_accuracy\"])\n",
        "  train_loss.append(i[\"train_loss\"])\n",
        "  train_acc.append(i[\"train_accuracy\"])"
      ],
      "execution_count": 0,
      "outputs": []
    },
    {
      "cell_type": "markdown",
      "metadata": {
        "id": "UDyMCGvasDi1",
        "colab_type": "text"
      },
      "source": [
        "### Epoch vs Loss"
      ]
    },
    {
      "cell_type": "code",
      "metadata": {
        "id": "yoFi4RbosFG2",
        "colab_type": "code",
        "colab": {}
      },
      "source": [
        "plt.figure(figsize=(8,5))\n",
        "plt.title(\"Epoch vs Loss Curve\")\n",
        "plt.plot(range(1, epochs+1), val_loss, label=\"val_set\")\n",
        "plt.plot(range(1, epochs+1), train_loss, label=\"train_set\")\n",
        "plt.xlabel(\"Epochs\")\n",
        "plt.ylabel(\"Loss\")\n",
        "plt.legend()\n",
        "plt.show()"
      ],
      "execution_count": 0,
      "outputs": []
    },
    {
      "cell_type": "markdown",
      "metadata": {
        "id": "eRfOSxnxsczb",
        "colab_type": "text"
      },
      "source": [
        "### Epoch vs Accuracy"
      ]
    },
    {
      "cell_type": "code",
      "metadata": {
        "id": "yx__Alv3sebP",
        "colab_type": "code",
        "outputId": "d49f6fbc-c7c4-4bee-de13-b26915f87494",
        "colab": {
          "base_uri": "https://localhost:8080/",
          "height": 350
        }
      },
      "source": [
        "plt.figure(figsize=(8,5))\n",
        "plt.title(\"Epoch vs Accuracy Curve\")\n",
        "plt.plot(range(1, epochs+1), val_acc, label=\"val_set\")\n",
        "plt.plot(range(1, epochs+1), train_acc, label=\"train_set\")\n",
        "plt.xlabel(\"Epochs\")\n",
        "plt.ylabel(\"Accuracy\")\n",
        "plt.legend()\n",
        "plt.show()"
      ],
      "execution_count": 0,
      "outputs": [
        {
          "output_type": "display_data",
          "data": {
            "image/png": "[encoded data removed]",
            "text/plain": [
              "<Figure size 576x360 with 1 Axes>"
            ]
          },
          "metadata": {
            "tags": []
          }
        }
      ]
    },
    {
      "cell_type": "markdown",
      "metadata": {
        "id": "spZnbAl0W80U",
        "colab_type": "text"
      },
      "source": [
        "### Confusion Matrix"
      ]
    },
    {
      "cell_type": "code",
      "metadata": {
        "id": "41ZSqy6DIjya",
        "colab_type": "code",
        "colab": {}
      },
      "source": [
        "from sklearn.utils.multiclass import unique_labels\n",
        "\n",
        "def plot_confusion_matrix(y_true, y_pred, classes, title=None, cmap=plt.cm.Blues):\n",
        "  # Compute confusion matrix\n",
        "  cm = confusion_matrix(y_true, y_pred)\n",
        "  # only use the labels that appear in the data\n",
        "  classes = classes[unique_labels(y_true, y_pred)]\n",
        "\n",
        "  print(cm)\n",
        "  fig, ax = plt.subplots(figsize=(30,20))\n",
        "  im = ax.imshow(cm, interpolation='nearest', cmap=cmap)\n",
        "  ax.figure.colorbar(im, ax=ax)\n",
        "\n",
        "  # Show all ticks\n",
        "  ax.set(xticks=np.arange(cm.shape[1]),\n",
        "         yticks = np.arange(cm.shape[0]),\n",
        "         # and label them with the respective list entries\n",
        "         xticklabels = classes, yticklabels = classes,\n",
        "         title=title,\n",
        "         ylabel='True Label',\n",
        "         xlabel='Predicted Label')\n",
        "  # Rotate the tick labels and set their alignment\n",
        "  plt.setp(ax.get_xticklabels(), rotation=45, ha=\"right\", rotation_mode=\"anchor\")\n",
        "\n",
        "  # loop over data dimensions and create text annotations\n",
        "  fmt = 'd'\n",
        "  thresh = cm.max()/2.\n",
        "  for i in range(cm.shape[0]):\n",
        "    for j in range(cm.shape[1]):\n",
        "      ax.text(j, i, format(cm[i, j], fmt),\n",
        "              ha=\"center\", va=\"center\",\n",
        "              color=\"white\" if cm[i,j] > thresh else \"black\")\n",
        "  fig.tight_layout()\n",
        "  return ax"
      ],
      "execution_count": 0,
      "outputs": []
    },
    {
      "cell_type": "code",
      "metadata": {
        "id": "1vsrRoWZOKHc",
        "colab_type": "code",
        "colab": {}
      },
      "source": [
        "label_numpy = label.cpu().numpy()\n",
        "prediction_tensor = prediction.cpu()\n",
        "\n",
        "all_labels = np.array(flat_list_label)"
      ],
      "execution_count": 0,
      "outputs": []
    },
    {
      "cell_type": "code",
      "metadata": {
        "id": "qST-POnLZ1dB",
        "colab_type": "code",
        "colab": {}
      },
      "source": [
        "all_predictions_tensor = torch.tensor(flat_list_prediction)\n",
        "all_predictions_array = np.array(flat_list_prediction)\n",
        "#final_predictions = np.where(all_predictions_array>45, 0, all_predictions_array)\n",
        "#final_predictions_tensor = torch.tensor(final_predictions)"
      ],
      "execution_count": 0,
      "outputs": []
    },
    {
      "cell_type": "code",
      "metadata": {
        "id": "fDxsziBpMXxG",
        "colab_type": "code",
        "outputId": "9da35082-aaf5-4ade-e91d-3f6fe6233d33",
        "colab": {
          "base_uri": "https://localhost:8080/",
          "height": 1000
        }
      },
      "source": [
        "# Pytorch doesn't have a built-in confusion matrix metric, so we'll use Scikit-learn\n",
        "\n",
        "from sklearn.metrics import confusion_matrix\n",
        "\n",
        "# set the model to evaluate mode\n",
        "my_model.eval()\n",
        "class_names=[0,1,2,3,4,5,6,7,8,9,10,11,12,13,14,15,16,17,18,19,20,21,22,23,24,25,26,27,28,29,30,31,32,33,34,35,36,37,38,39,40,41,42,43,44,45]\n",
        "# Get Prediction for the test data\n",
        "plot_confusion_matrix(all_labels, all_predictions_tensor, np.array(class_names), title='Confusion Matrix')"
      ],
      "execution_count": 0,
      "outputs": [
        {
          "output_type": "stream",
          "text": [
            "[[597   0   0 ...   0   0   0]\n",
            " [  0 590   2 ...   0   2   0]\n",
            " [  0   0 596 ...   0   0   0]\n",
            " ...\n",
            " [  0   0   0 ... 600   0   0]\n",
            " [  0   0   0 ...   0 600   0]\n",
            " [  0   0   0 ...   0   0 596]]\n"
          ],
          "name": "stdout"
        },
        {
          "output_type": "execute_result",
          "data": {
            "text/plain": [
              "<matplotlib.axes._subplots.AxesSubplot at 0x7fa6a07b6550>"
            ]
          },
          "metadata": {
            "tags": []
          },
          "execution_count": 38
        },
        {
          "output_type": "display_data",
          "data": {
            "image/png": "[encoded data removed]",
            "text/plain": [
              "<Figure size 2160x1440 with 2 Axes>"
            ]
          },
          "metadata": {
            "tags": []
          }
        }
      ]
    },
    {
      "cell_type": "code",
      "metadata": {
        "id": "Z-K1R_TXMi14",
        "colab_type": "code",
        "colab": {}
      },
      "source": [
        ""
      ],
      "execution_count": 0,
      "outputs": []
    }
  ]
}