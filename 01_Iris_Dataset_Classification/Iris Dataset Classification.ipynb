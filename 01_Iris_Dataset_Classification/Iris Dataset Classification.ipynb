{
 "cells": [
  {
   "cell_type": "markdown",
   "metadata": {},
   "source": [
    "# Iris Classification Dataset\n",
    "Here, PyTorch Framework is used to create a simple neural network that classifies iris flowers into species based on measurements of their petals and sepals.\n",
    "\n",
    "> The iris classification model is a very common machine learning example, and the iris dataset is often the basis for \"hello world\" sample code for a wide range of machine learning frameworks. In reality, this problem can be solved easily using classical machine learning techniques without the need for a deep learning model; but it's a useful, easy to understand dataset with which to demonstrate the principles of neural networks in this notebook.\n",
    "\n",
    "<img src=\"img/iris_petal_sepal.png\">"
   ]
  },
  {
   "cell_type": "markdown",
   "metadata": {},
   "source": [
    "### Exploring the Iris Dataset\n",
    "\n",
    "The Iris dataset was used in Taxonomic Problems. It can be found on the <a href=\"https://archive.ics.uci.edu/ml/datasets/iris\">UCI Machine Learning Repository</a>\n",
    "\n",
    "It consists of 50 samples each of three different iris species as well as some properties about each flower. Here one of the flower is linearly seperable from the other two, but the other two are not linearly seperable from each other.\n",
    "\n",
    "The four features of the dataset are:\n",
    "    - Sepal Length (cm)\n",
    "    - Sepal Width (cm)\n",
    "    - Petal Length (cm)\n",
    "    - Petal Width (cm)\n",
    "    \n",
    "There are three classes in the dataset:\n",
    "    - Iris-setosa \n",
    "    - Iris-versicolor\n",
    "    - Irish-virginica\n",
    "\n",
    "### Required Libraries\n",
    "1. <a href=\"https://scipy.org/install.html\">Numpy</a>\n",
    "2. <a href=\"https://scipy.org/install.html\">Pandas</a>\n",
    "3. <a href=\"https://scipy.org/install.html\">Matplotlib</a>\n",
    "4. <a href=\"https://pypi.org/project/scikit-learn/\">Scikit-Learn</a>\n",
    "5. <a href=\"https://pytorch.org/get-started/locally/\">PyTorch</a>"
   ]
  },
  {
   "cell_type": "code",
   "execution_count": 401,
   "metadata": {},
   "outputs": [],
   "source": [
    "import numpy as np\n",
    "import pandas as pd\n",
    "import matplotlib.pyplot as plt\n",
    "from sklearn.preprocessing import LabelEncoder\n",
    "from sklearn.model_selection import train_test_split"
   ]
  },
  {
   "cell_type": "markdown",
   "metadata": {},
   "source": [
    "### Extracting and Preprocessing Data\n",
    "\n",
    "Here, iris dataset which is in \".csv\" file is extracted to pandas dataframe. The labels (classes) of iris flower is then encoded such that the labels are converted into unique numbers."
   ]
  },
  {
   "cell_type": "code",
   "execution_count": 402,
   "metadata": {},
   "outputs": [],
   "source": [
    "# Reading iris dataset as pandas dataframe \n",
    "dataframe = pd.read_csv(\"dataset/iris.csv\")"
   ]
  },
  {
   "cell_type": "code",
   "execution_count": 403,
   "metadata": {},
   "outputs": [
    {
     "data": {
      "text/html": [
       "<div>\n",
       "<style scoped>\n",
       "    .dataframe tbody tr th:only-of-type {\n",
       "        vertical-align: middle;\n",
       "    }\n",
       "\n",
       "    .dataframe tbody tr th {\n",
       "        vertical-align: top;\n",
       "    }\n",
       "\n",
       "    .dataframe thead th {\n",
       "        text-align: right;\n",
       "    }\n",
       "</style>\n",
       "<table border=\"1\" class=\"dataframe\">\n",
       "  <thead>\n",
       "    <tr style=\"text-align: right;\">\n",
       "      <th></th>\n",
       "      <th>Id</th>\n",
       "      <th>SepalLengthCm</th>\n",
       "      <th>SepalWidthCm</th>\n",
       "      <th>PetalLengthCm</th>\n",
       "      <th>PetalWidthCm</th>\n",
       "      <th>Species</th>\n",
       "    </tr>\n",
       "  </thead>\n",
       "  <tbody>\n",
       "    <tr>\n",
       "      <th>0</th>\n",
       "      <td>1</td>\n",
       "      <td>5.1</td>\n",
       "      <td>3.5</td>\n",
       "      <td>1.4</td>\n",
       "      <td>0.2</td>\n",
       "      <td>Iris-setosa</td>\n",
       "    </tr>\n",
       "    <tr>\n",
       "      <th>1</th>\n",
       "      <td>2</td>\n",
       "      <td>4.9</td>\n",
       "      <td>3.0</td>\n",
       "      <td>1.4</td>\n",
       "      <td>0.2</td>\n",
       "      <td>Iris-setosa</td>\n",
       "    </tr>\n",
       "    <tr>\n",
       "      <th>2</th>\n",
       "      <td>3</td>\n",
       "      <td>4.7</td>\n",
       "      <td>3.2</td>\n",
       "      <td>1.3</td>\n",
       "      <td>0.2</td>\n",
       "      <td>Iris-setosa</td>\n",
       "    </tr>\n",
       "    <tr>\n",
       "      <th>3</th>\n",
       "      <td>4</td>\n",
       "      <td>4.6</td>\n",
       "      <td>3.1</td>\n",
       "      <td>1.5</td>\n",
       "      <td>0.2</td>\n",
       "      <td>Iris-setosa</td>\n",
       "    </tr>\n",
       "    <tr>\n",
       "      <th>4</th>\n",
       "      <td>5</td>\n",
       "      <td>5.0</td>\n",
       "      <td>3.6</td>\n",
       "      <td>1.4</td>\n",
       "      <td>0.2</td>\n",
       "      <td>Iris-setosa</td>\n",
       "    </tr>\n",
       "  </tbody>\n",
       "</table>\n",
       "</div>"
      ],
      "text/plain": [
       "   Id  SepalLengthCm  SepalWidthCm  PetalLengthCm  PetalWidthCm      Species\n",
       "0   1            5.1           3.5            1.4           0.2  Iris-setosa\n",
       "1   2            4.9           3.0            1.4           0.2  Iris-setosa\n",
       "2   3            4.7           3.2            1.3           0.2  Iris-setosa\n",
       "3   4            4.6           3.1            1.5           0.2  Iris-setosa\n",
       "4   5            5.0           3.6            1.4           0.2  Iris-setosa"
      ]
     },
     "execution_count": 403,
     "metadata": {},
     "output_type": "execute_result"
    }
   ],
   "source": [
    "dataframe.head()"
   ]
  },
  {
   "cell_type": "code",
   "execution_count": 404,
   "metadata": {},
   "outputs": [
    {
     "name": "stdout",
     "output_type": "stream",
     "text": [
      "Input Features Shape:  (150, 4)\n",
      "Output Classes Shape:  (150,)\n"
     ]
    }
   ],
   "source": [
    "X = dataframe.iloc[:, 1:-1].values\n",
    "y = dataframe.iloc[:, -1].values\n",
    "print(\"Input Features Shape: \", X.shape)\n",
    "print(\"Output Classes Shape: \", y.shape)"
   ]
  },
  {
   "cell_type": "code",
   "execution_count": 405,
   "metadata": {},
   "outputs": [],
   "source": [
    "# Encoding the Species\n",
    "labelencoder_y = LabelEncoder()\n",
    "Y = labelencoder_y.fit_transform(y[:])"
   ]
  },
  {
   "cell_type": "code",
   "execution_count": 406,
   "metadata": {},
   "outputs": [],
   "source": [
    "# Here the encoding is done as:\n",
    "# 1. 0 --> Iris-setosa\n",
    "# 2. 1 --> Iris-versicolor\n",
    "# 3. 2 --> Iris-virginica\n",
    "class_names = np.array(['Iris-setosa', 'Iris-versicolor', 'Iris-virginica'])\n",
    "# Changing the rank 0 matrix into column (Rank 1) matrix\n",
    "#Y.reshape(-1, 1).shape"
   ]
  },
  {
   "cell_type": "code",
   "execution_count": 407,
   "metadata": {},
   "outputs": [],
   "source": [
    "# Spliting the dataset into the Traning set and Test set\n",
    "X_train, X_test, Y_train, Y_test = train_test_split(X, Y, test_size=0.4, random_state=22) #0"
   ]
  },
  {
   "cell_type": "code",
   "execution_count": null,
   "metadata": {},
   "outputs": [],
   "source": []
  },
  {
   "cell_type": "markdown",
   "metadata": {},
   "source": [
    "# Neural Network Model"
   ]
  },
  {
   "cell_type": "code",
   "execution_count": 408,
   "metadata": {},
   "outputs": [
    {
     "name": "stdout",
     "output_type": "stream",
     "text": [
      "Libraries imported - ready to use PyTorch 1.2.0\n"
     ]
    }
   ],
   "source": [
    "import torch\n",
    "import torch.nn as nn\n",
    "from torch.utils.data import TensorDataset, DataLoader\n",
    "import torch.nn.functional as F\n",
    "print(\"Libraries imported - ready to use PyTorch\", torch.__version__)"
   ]
  },
  {
   "cell_type": "markdown",
   "metadata": {},
   "source": [
    "### Prepare the Data for Pytorch\n",
    "\n",
    "PyTorch makes use of dataloaders to load training and validation data in batches. Here data is already loaded into numpy arrays, but these data should be wrap into PyTorch Datasets (in which data is converted into PyTorch tensor objects) and data loaders are created to read batches."
   ]
  },
  {
   "cell_type": "code",
   "execution_count": 409,
   "metadata": {},
   "outputs": [
    {
     "name": "stdout",
     "output_type": "stream",
     "text": [
      "Train and Test Loaders are ready\n",
      "X Train dataset shape:  torch.Size([90, 4])\n",
      "X Test dataset shape:  torch.Size([60, 4])\n",
      "Y Train dataset shape:  torch.Size([90])\n",
      "Y Test dataset shape:  torch.Size([60])\n"
     ]
    }
   ],
   "source": [
    "# Create a dataset and loader for the training data and labels\n",
    "x_train = torch.Tensor(X_train).float()\n",
    "y_train = torch.Tensor(Y_train).long()\n",
    "train_dataset = TensorDataset(x_train, y_train)\n",
    "train_loader = DataLoader(train_dataset, batch_size=4,\n",
    "    shuffle=False, num_workers=1)\n",
    "\n",
    "# Create a dataset and loader for the test data and labels\n",
    "x_test = torch.Tensor(X_test).float()\n",
    "y_test = torch.Tensor(Y_test).long()\n",
    "test_dataset = utils.TensorDataset(x_test,y_test)\n",
    "test_loader = td.DataLoader(test_dataset, batch_size=4,\n",
    "    shuffle=False, num_workers=1)\n",
    "\n",
    "print(\"Train and Test Loaders are ready\")\n",
    "print(\"X Train dataset shape: \", x_train.shape)\n",
    "print(\"X Test dataset shape: \", x_test.shape)\n",
    "print(\"Y Train dataset shape: \", y_train.shape)\n",
    "print(\"Y Test dataset shape: \", y_test.shape)\n"
   ]
  },
  {
   "cell_type": "markdown",
   "metadata": {},
   "source": [
    "## Define a Neural Network\n",
    "\n",
    "Now,data is ready. The architecture of neural network building is the next step. Here, we will be building a network that consists of 3 fully connected(Linear) layers:\n",
    "* An input layer that receives four input values (the iris features) and applies ReLU activation function.\n",
    "* A hidden layer that receives 10 inputs and applies a ReLu activation function.\n",
    "* An output layer that uses a softmax activation function to generate three outputs ( which represents the probabilities for the three iris species)"
   ]
  },
  {
   "cell_type": "code",
   "execution_count": 415,
   "metadata": {},
   "outputs": [
    {
     "name": "stdout",
     "output_type": "stream",
     "text": [
      "DeepIrisNet(\n",
      "  (input): Linear(in_features=4, out_features=15, bias=True)\n",
      "  (hl1): Linear(in_features=15, out_features=10, bias=True)\n",
      "  (out): Linear(in_features=10, out_features=3, bias=True)\n",
      ")\n"
     ]
    }
   ],
   "source": [
    "# Number of Hidden Layers\n",
    "\n",
    "h1 = 15\n",
    "h2 = 10\n",
    "\n",
    "# class defining the Neural Network\n",
    "class DeepIrisNet(nn.Module):\n",
    "    def __init__(self):\n",
    "        super(DeepIrisNet, self).__init__()\n",
    "        self.input = nn.Linear(4, h1)\n",
    "        self.hl1 = nn.Linear(h1, h2)\n",
    "        self.out = nn.Linear(h2, 3)\n",
    "        \n",
    "    def forward(self, x):\n",
    "        x = F.relu(self.input(x))\n",
    "        x = F.relu(self.hl1(x))\n",
    "        x = self.out(x)\n",
    "        return x\n",
    "\n",
    "# Create a model Instance from the network\n",
    "model = DeepIrisNet()\n",
    "print(model)"
   ]
  },
  {
   "cell_type": "markdown",
   "metadata": {},
   "source": [
    "### Training the Model\n",
    "To train the model, we need to repeatedly feed the training values forward through the network. We need to use a loss function to calculate the loss, an optimizer to backpropagate the weight and bias value adjustments, and validate the model using the test data we withheld.\n",
    "\n",
    "To do this, we'll create a function to train and optimize the model and fuction to test the model. Then we'll call these functions iteratively over epochs, logging the loss and accuracy statistics for each epoch"
   ]
  },
  {
   "cell_type": "code",
   "execution_count": 418,
   "metadata": {},
   "outputs": [
    {
     "name": "stdout",
     "output_type": "stream",
     "text": [
      "Epoch 10: TrainLoss= 0.0267, TrainAaccuracy= 92.2222%, ValLoss: 0.0083, ValAccuracy= 100.0000%\n",
      "Epoch 20: TrainLoss= 0.0436, TrainAaccuracy= 92.2222%, ValLoss: 0.0117, ValAccuracy= 100.0000%\n",
      "Epoch 30: TrainLoss= 0.0249, TrainAaccuracy= 92.2222%, ValLoss: 0.0104, ValAccuracy= 100.0000%\n",
      "Epoch 40: TrainLoss= 0.0240, TrainAaccuracy= 93.3333%, ValLoss: 0.0110, ValAccuracy= 100.0000%\n",
      "Epoch 50: TrainLoss= 0.0253, TrainAaccuracy= 93.3333%, ValLoss: 0.0124, ValAccuracy= 100.0000%\n",
      "Epoch 60: TrainLoss= 0.0243, TrainAaccuracy= 93.3333%, ValLoss: 0.0111, ValAccuracy= 100.0000%\n",
      "Epoch 70: TrainLoss= 0.0391, TrainAaccuracy= 92.2222%, ValLoss: 0.0150, ValAccuracy= 100.0000%\n",
      "Epoch 80: TrainLoss= 0.0290, TrainAaccuracy= 92.2222%, ValLoss: 0.0070, ValAccuracy= 100.0000%\n",
      "Epoch 90: TrainLoss= 0.0480, TrainAaccuracy= 91.1111%, ValLoss: 0.0096, ValAccuracy= 98.3333%\n",
      "Epoch 100: TrainLoss= 0.0271, TrainAaccuracy= 93.3333%, ValLoss: 0.0081, ValAccuracy= 100.0000%\n"
     ]
    }
   ],
   "source": [
    "def train(model, data_loader, optimizer):\n",
    "    # Set the model to training mode\n",
    "    model.train()\n",
    "    train_loss=0\n",
    "    correct=0\n",
    "    \n",
    "    for batch, tensor in enumerate(data_loader):\n",
    "        data, label = tensor\n",
    "        # forward propagation\n",
    "        optimizer.zero_grad()\n",
    "        out = model(data)\n",
    "        loss = loss_criteria(out, label)\n",
    "        train_loss += loss.item()\n",
    "        \n",
    "        # Back Propagation\n",
    "        loss.backward()\n",
    "        optimizer.step()\n",
    "    \n",
    "        # calculate the accuracy\n",
    "        _, predicted = torch.max(out.data, 1)\n",
    "        correct += torch.sum(label==predicted).item()\n",
    "        \n",
    "    avg_accuracy = correct / len(data_loader.dataset)\n",
    "    # Returning the average loss\n",
    "    avg_loss = train_loss / len(data_loader.dataset)\n",
    "    return avg_loss, avg_accuracy\n",
    "\n",
    "def test(model, data_loader):\n",
    "    # switch the model to evaluation mode ( so we only do forward propagation)\n",
    "    model.eval()\n",
    "    test_loss = 0\n",
    "    correct = 0\n",
    "    \n",
    "    with torch.no_grad():\n",
    "        for batch, tensor in enumerate(data_loader):\n",
    "            data, label = tensor\n",
    "            # Get the prediction\n",
    "            out = model(data)\n",
    "            \n",
    "            # calculate the loss\n",
    "            test_loss += loss_criteria(out, label).item()\n",
    "            \n",
    "            # calculate the accuracy\n",
    "            _, predicted = torch.max(out.data, 1)\n",
    "            correct += torch.sum(label==predicted).item()\n",
    "            \n",
    "    # return validation loss and prediction accuracy for each epoch\n",
    "    avg_accuracy = correct / len(data_loader.dataset)\n",
    "    avg_loss = test_loss / len(data_loader.dataset)\n",
    "    return avg_loss, avg_accuracy\n",
    "\n",
    "# specify the loss criteria (Cross Entropy Loss for Multi-class classification)\n",
    "loss_criteria = nn.CrossEntropyLoss()\n",
    "\n",
    "# Specify the optimizer ( Here Stochastic Gradient Descent optimizer is used)\n",
    "learning_rate = 0.01\n",
    "learning_momentum = 0.9\n",
    "optimizer = torch.optim.SGD(model.parameters(), lr=learning_rate, momentum=learning_momentum)\n",
    "\n",
    "# track metrices for each epoch in arrays\n",
    "epoch_nums = []\n",
    "training_loss = []\n",
    "validation_loss = []\n",
    "\n",
    "# train over 100 epochs\n",
    "epochs = 100\n",
    "for epoch in range(1, epochs+1):\n",
    "    # feeding the training data into the model to optimize the weights\n",
    "    train_loss, train_acc = train(model, train_loader, optimizer)\n",
    "    \n",
    "    # feeding the test data into the model to check its performance\n",
    "    test_loss, accuracy = test(model, test_loader)\n",
    "    \n",
    "    # log the metrices for this epoch\n",
    "    epoch_nums.append(epoch)\n",
    "    training_loss.append(train_loss)\n",
    "    validation_loss.append(test_loss)\n",
    "    \n",
    "    if epoch % 10 == 0:\n",
    "        print('Epoch {:d}: TrainLoss= {:.4f}, TrainAaccuracy= {:.4%}, ValLoss: {:.4f}, ValAccuracy= {:.4%}'.format(epoch, train_loss,train_acc, test_loss, accuracy))"
   ]
  },
  {
   "cell_type": "code",
   "execution_count": 419,
   "metadata": {},
   "outputs": [
    {
     "data": {
      "image/png": "[encoded data removed]",
      "text/plain": [
       "<Figure size 432x288 with 1 Axes>"
      ]
     },
     "metadata": {
      "needs_background": "light"
     },
     "output_type": "display_data"
    }
   ],
   "source": [
    "plt.plot(epoch_nums, training_loss)\n",
    "plt.plot(epoch_nums, validation_loss)\n",
    "plt.xlabel('epoch')\n",
    "plt.ylabel('loss')\n",
    "plt.legend(['training', 'validation'], loc='upper right')\n",
    "plt.show()"
   ]
  },
  {
   "cell_type": "code",
   "execution_count": 420,
   "metadata": {},
   "outputs": [],
   "source": [
    "from sklearn.utils.multiclass import unique_labels\n",
    "def plot_confusion_matrix(y_true, y_pred, classes, title=None, cmap=plt.cm.Blues):\n",
    "    # Compute confusion matrix\n",
    "    cm = confusion_matrix(y_true, y_pred)\n",
    "    # only use the labels that appear in the data\n",
    "    classes = classes[unique_labels(y_true, y_pred)]\n",
    "    \n",
    "    print(cm)\n",
    "    fig, ax = plt.subplots()\n",
    "    im = ax.imshow(cm, interpolation='nearest', cmap=cmap)\n",
    "    ax.figure.colorbar(im, ax=ax)\n",
    "    \n",
    "    # Show all ticks\n",
    "    ax.set(xticks=np.arange(cm.shape[1]),\n",
    "          yticks=np.arange(cm.shape[0]),\n",
    "          # and label them with the respective list entries\n",
    "          xticklabels = classes, yticklabels=classes,\n",
    "          title=title,\n",
    "          ylabel='True Label',\n",
    "          xlabel='Predicted Label')\n",
    "    # Rotate the tick labels and set their alignment\n",
    "    plt.setp(ax.get_xticklabels(), rotation=45, ha=\"right\", rotation_mode=\"anchor\")\n",
    "    \n",
    "    # loop over data dimensions and create text annotations\n",
    "    fmt = 'd'\n",
    "    thres = cm.max()/2.\n",
    "    for i in range(cm.shape[0]):\n",
    "        for j in range(cm.shape[1]):\n",
    "            ax.text(j, i, format(cm[i, j], fmt),\n",
    "            ha=\"center\", va=\"center\",\n",
    "            color=\"white\" if cm[i,j] > thresh else \"black\")\n",
    "    fig.tight_layout()\n",
    "    return ax"
   ]
  },
  {
   "cell_type": "code",
   "execution_count": 421,
   "metadata": {},
   "outputs": [
    {
     "name": "stdout",
     "output_type": "stream",
     "text": [
      "[[20  0  0]\n",
      " [ 0 20  0]\n",
      " [ 0  0 20]]\n"
     ]
    },
    {
     "data": {
      "text/plain": [
       "<matplotlib.axes._subplots.AxesSubplot at 0x7fbc270a2240>"
      ]
     },
     "execution_count": 421,
     "metadata": {},
     "output_type": "execute_result"
    },
    {
     "data": {
      "image/png": "[encoded data removed]",
      "text/plain": [
       "<Figure size 432x288 with 2 Axes>"
      ]
     },
     "metadata": {
      "needs_background": "light"
     },
     "output_type": "display_data"
    }
   ],
   "source": [
    "#Pytorch doesn't have a built-in confusion matrix metric, so we'll use SciKit-Learn\n",
    "from sklearn.metrics import confusion_matrix\n",
    "\n",
    "# Set the model to evaluate mode\n",
    "model.eval()\n",
    "\n",
    "# Get predictions for the test data\n",
    "x = torch.Tensor(X_test).float()\n",
    "_, predicted = torch.max(model(x).data, 1)\n",
    "\n",
    "plot_confusion_matrix(y_test, predicted, class_names, title='Confusion Matrix' )"
   ]
  },
  {
   "cell_type": "code",
   "execution_count": 422,
   "metadata": {},
   "outputs": [
    {
     "name": "stdout",
     "output_type": "stream",
     "text": [
      "New sample: [6.6, 3.2, 5.8, 2.4]\n",
      "Prediction: Iris-virginica\n"
     ]
    }
   ],
   "source": [
    "x_new = [[6.6,3.2,5.8,2.4]]\n",
    "print ('New sample: {}'.format(x_new[0]))\n",
    "\n",
    "model.eval()\n",
    "\n",
    "# Get a prediction for the new data sample\n",
    "x = torch.Tensor(x_new).float()\n",
    "_, predicted = torch.max(model(x).data, 1)\n",
    "\n",
    "print('Prediction:',class_names[predicted.item()])"
   ]
  },
  {
   "cell_type": "code",
   "execution_count": 423,
   "metadata": {},
   "outputs": [],
   "source": [
    "# Creating a checkpoint dictionary, saving model and its state and optimizer state as well.\n",
    "# Saving dictionary to file , extension .pth,.pt,.pkl\n",
    "checkpoint = {'model': model,\n",
    "             'state_dict': model.state_dict(),\n",
    "             'optimizer': optimizer.state_dict()}\n",
    "torch.save(checkpoint, 'checkpoint.pth')"
   ]
  },
  {
   "cell_type": "code",
   "execution_count": 424,
   "metadata": {},
   "outputs": [],
   "source": [
    "# Loading saved model state to my_model\n",
    "# Creating model from saved state and switching it to evalulation mode for inference\n",
    "def load_checkpoint(model_path):\n",
    "  checkpoint=torch.load(model_path)\n",
    "  model=checkpoint[\"model\"]\n",
    "  \n",
    "  model.load_state_dict(checkpoint[\"state_dict\"])\n",
    "  \n",
    "  for parameter in model.parameters():\n",
    "    parameter.requires_grad=False\n",
    "\n",
    "  model.eval()\n",
    "  return model\n",
    "\n",
    "my_model=load_checkpoint(\"checkpoint.pth\")"
   ]
  },
  {
   "cell_type": "code",
   "execution_count": 425,
   "metadata": {},
   "outputs": [
    {
     "data": {
      "text/plain": [
       "DeepIrisNet(\n",
       "  (input): Linear(in_features=4, out_features=15, bias=True)\n",
       "  (hl1): Linear(in_features=15, out_features=10, bias=True)\n",
       "  (out): Linear(in_features=10, out_features=3, bias=True)\n",
       ")"
      ]
     },
     "execution_count": 425,
     "metadata": {},
     "output_type": "execute_result"
    }
   ],
   "source": [
    "my_model"
   ]
  },
  {
   "cell_type": "code",
   "execution_count": 426,
   "metadata": {},
   "outputs": [
    {
     "name": "stdout",
     "output_type": "stream",
     "text": [
      "100.0\n"
     ]
    }
   ],
   "source": [
    "# Test set accuracy\n",
    "correct=0\n",
    "for i,(data,label) in enumerate(test_loader):\n",
    "  output=my_model.forward(data)\n",
    "  max_val,prediction=torch.max(output.data,1)\n",
    "  correct+=(((prediction==label).sum().item())/len(label))\n",
    "print(correct/len(test_loader)*100)"
   ]
  },
  {
   "cell_type": "code",
   "execution_count": null,
   "metadata": {},
   "outputs": [],
   "source": []
  }
 ],
 "metadata": {
  "kernelspec": {
   "display_name": "Python 3",
   "language": "python",
   "name": "python3"
  },
  "language_info": {
   "codemirror_mode": {
    "name": "ipython",
    "version": 3
   },
   "file_extension": ".py",
   "mimetype": "text/x-python",
   "name": "python",
   "nbconvert_exporter": "python",
   "pygments_lexer": "ipython3",
   "version": "3.7.3"
  }
 },
 "nbformat": 4,
 "nbformat_minor": 2
}
