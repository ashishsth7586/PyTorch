{
 "cells": [
  {
   "cell_type": "markdown",
   "metadata": {},
   "source": [
    "# Human Activity Recognition"
   ]
  },
  {
   "cell_type": "markdown",
   "metadata": {},
   "source": [
    "### Objective\n",
    "The main objective of this project is to build a model that predicts the human activities such as Walking, Walking Upstairs, Walking Downstairs, Sitting, Standing or Laying.\n",
    "\n",
    "### Dataset Information\n",
    "The dataset is collected from 30 volunteers within an age group of 19-48 years wearing a smartphone on the waist. Using its embedded accelerometer and gyroscope, 3-axial linear acceleration and 3-axial angular velocity at a constant rate of 50Hz is captured. Further, the video was recorded to label the data manually.\n",
    "\n",
    "The sensors (accelerometer and gyroscope) signal were pre-processed by applying noise filters and then sampled in fixed-width sliding windows of 2.56 sec and 50% overlabping (128 readings/window). The sensor acceleration signal, which has gravitational and body motion components, was seperated using a Butterworth Low-Pass filter into body acceleration and gravity. The gravitational force is assumed to have only low frequency components, therefore a filter with 0.3Hz cutoff frequency was used. From each window, a vector of features was obtained by calculating variables from the time and frequncy domain. <a href=\"https://archive.ics.uci.edu/ml/datasets/human+activity+recognition+using+smartphones#\">[1]</a>\n",
    "\n",
    "The body linear acceleration and angular velocity were derived in time to obtain jerk signals <strong>(tBodyAccJerk-XYZ and tBodyGyroJerk-XYZ)</strong>.\n",
    "\n",
    "The magnitude of these 3-dimensional signals were calculated using the Euclidian norm. This magnitudes are represented as features with names: <strong>tBodyAccMag, tGravityAccMag, tBodyAccJerkMag, tBodyGyroMag and tBodyGyroJerkMag)</strong>.\n",
    "\n",
    "Frequency domain signals from some of the available signals are obtained applying a Fast Fourier Transform (FFT). These signals objtained were labeled with prefix <strong>'f'</strong> as <strong> fBodyAcc-XYZ, fBodyGyroMag...</strong>\n",
    "\n",
    " We will estimate the following properties on each and every signal that we recoreded so far.\n",
    "\n",
    "* ___mean()___: Mean value\n",
    "* ___std()___: Standard deviation\n",
    "* ___mad()___: Median absolute deviation \n",
    "* ___max()___: Largest value in array\n",
    "* ___min()___: Smallest value in array\n",
    "* ___sma()___: Signal magnitude area\n",
    "* ___energy()___: Energy measure. Sum of the squares divided by the number of values. \n",
    "* ___iqr()___: Interquartile range \n",
    "* ___entropy()___: Signal entropy\n",
    "* ___arCoeff()___: Autorregresion coefficients with Burg order equal to 4\n",
    "* ___correlation()___: correlation coefficient between two signals\n",
    "* ___maxInds()___: index of the frequency component with largest magnitude\n",
    "* ___meanFreq()___: Weighted average of the frequency components to obtain a mean frequency\n",
    "* ___skewness()___: skewness of the frequency domain signal \n",
    "* ___kurtosis()___: kurtosis of the frequency domain signal \n",
    "* ___bandsEnergy()___: Energy of a frequency interval within the 64 bins of the FFT of each window.\n",
    "* ___angle()___: Angle between to vectors.\n",
    "    \n",
    "\n",
    "A video of the experiment including an example of the 6 recorded activities with one of the participants can be seen <a href=\"https://www.youtube.com/watch?v=XOEN9W05_4A\">here.</a>\n",
    "\n",
    "### Label Encodings\n",
    "* WALKING as 1\n",
    "* WALKING_UPSTAIRS as 2\n",
    "* WALKING_DOWNSTAIRS as 3\n",
    "* SITTING as 4\n",
    "* STANDING as 5\n",
    "* LAYING as 6\n"
   ]
  },
  {
   "cell_type": "code",
   "execution_count": 47,
   "metadata": {},
   "outputs": [],
   "source": [
    "import numpy as np\n",
    "import pandas as pd\n",
    "import warnings\n",
    "warnings.filterwarnings(\"ignore\")"
   ]
  },
  {
   "cell_type": "code",
   "execution_count": 48,
   "metadata": {},
   "outputs": [
    {
     "name": "stdout",
     "output_type": "stream",
     "text": [
      "No of Features: 561\n"
     ]
    }
   ],
   "source": [
    "# get the features from the file features.txt\n",
    "features = []\n",
    "with open('dataset/features.txt') as f:\n",
    "    features = [line.split()[1] for line in f.readlines()]\n",
    "print(f\"No of Features: {len(features)}\")"
   ]
  },
  {
   "cell_type": "markdown",
   "metadata": {},
   "source": [
    "### Obtain the train data"
   ]
  },
  {
   "cell_type": "code",
   "execution_count": 52,
   "metadata": {
    "scrolled": true
   },
   "outputs": [
    {
     "name": "stdout",
     "output_type": "stream",
     "text": [
      "The Shape of trainig data is: (7352, 564)\n"
     ]
    },
    {
     "data": {
      "text/html": [
       "<div>\n",
       "<style scoped>\n",
       "    .dataframe tbody tr th:only-of-type {\n",
       "        vertical-align: middle;\n",
       "    }\n",
       "\n",
       "    .dataframe tbody tr th {\n",
       "        vertical-align: top;\n",
       "    }\n",
       "\n",
       "    .dataframe thead th {\n",
       "        text-align: right;\n",
       "    }\n",
       "</style>\n",
       "<table border=\"1\" class=\"dataframe\">\n",
       "  <thead>\n",
       "    <tr style=\"text-align: right;\">\n",
       "      <th></th>\n",
       "      <th>(tBodyAcc-mean()-X,)</th>\n",
       "      <th>(tBodyAcc-mean()-Y,)</th>\n",
       "      <th>(tBodyAcc-mean()-Z,)</th>\n",
       "      <th>(tBodyAcc-std()-X,)</th>\n",
       "      <th>(tBodyAcc-std()-Y,)</th>\n",
       "      <th>(tBodyAcc-std()-Z,)</th>\n",
       "      <th>(tBodyAcc-mad()-X,)</th>\n",
       "      <th>(tBodyAcc-mad()-Y,)</th>\n",
       "      <th>(tBodyAcc-mad()-Z,)</th>\n",
       "      <th>(tBodyAcc-max()-X,)</th>\n",
       "      <th>...</th>\n",
       "      <th>(angle(tBodyAccMean,gravity),)</th>\n",
       "      <th>(angle(tBodyAccJerkMean),gravityMean),)</th>\n",
       "      <th>(angle(tBodyGyroMean,gravityMean),)</th>\n",
       "      <th>(angle(tBodyGyroJerkMean,gravityMean),)</th>\n",
       "      <th>(angle(X,gravityMean),)</th>\n",
       "      <th>(angle(Y,gravityMean),)</th>\n",
       "      <th>(angle(Z,gravityMean),)</th>\n",
       "      <th>subject</th>\n",
       "      <th>activity</th>\n",
       "      <th>activityName</th>\n",
       "    </tr>\n",
       "  </thead>\n",
       "  <tbody>\n",
       "    <tr>\n",
       "      <th>3563</th>\n",
       "      <td>0.207758</td>\n",
       "      <td>-0.008376</td>\n",
       "      <td>-0.098327</td>\n",
       "      <td>0.072484</td>\n",
       "      <td>-0.001096</td>\n",
       "      <td>-0.439179</td>\n",
       "      <td>0.03441</td>\n",
       "      <td>0.006904</td>\n",
       "      <td>-0.432768</td>\n",
       "      <td>0.317535</td>\n",
       "      <td>...</td>\n",
       "      <td>0.901842</td>\n",
       "      <td>0.96063</td>\n",
       "      <td>-0.910077</td>\n",
       "      <td>-0.714805</td>\n",
       "      <td>-0.779622</td>\n",
       "      <td>0.241808</td>\n",
       "      <td>0.069966</td>\n",
       "      <td>17</td>\n",
       "      <td>3</td>\n",
       "      <td>WALKING_DOWNSTAIRS</td>\n",
       "    </tr>\n",
       "  </tbody>\n",
       "</table>\n",
       "<p>1 rows × 564 columns</p>\n",
       "</div>"
      ],
      "text/plain": [
       "      (tBodyAcc-mean()-X,)  (tBodyAcc-mean()-Y,)  (tBodyAcc-mean()-Z,)  \\\n",
       "3563              0.207758             -0.008376             -0.098327   \n",
       "\n",
       "      (tBodyAcc-std()-X,)  (tBodyAcc-std()-Y,)  (tBodyAcc-std()-Z,)  \\\n",
       "3563             0.072484            -0.001096            -0.439179   \n",
       "\n",
       "      (tBodyAcc-mad()-X,)  (tBodyAcc-mad()-Y,)  (tBodyAcc-mad()-Z,)  \\\n",
       "3563              0.03441             0.006904            -0.432768   \n",
       "\n",
       "      (tBodyAcc-max()-X,)  ...  (angle(tBodyAccMean,gravity),)  \\\n",
       "3563             0.317535  ...                        0.901842   \n",
       "\n",
       "      (angle(tBodyAccJerkMean),gravityMean),)  \\\n",
       "3563                                  0.96063   \n",
       "\n",
       "      (angle(tBodyGyroMean,gravityMean),)  \\\n",
       "3563                            -0.910077   \n",
       "\n",
       "      (angle(tBodyGyroJerkMean,gravityMean),)  (angle(X,gravityMean),)  \\\n",
       "3563                                -0.714805                -0.779622   \n",
       "\n",
       "      (angle(Y,gravityMean),)  (angle(Z,gravityMean),)  subject  activity  \\\n",
       "3563                 0.241808                 0.069966       17         3   \n",
       "\n",
       "            activityName  \n",
       "3563  WALKING_DOWNSTAIRS  \n",
       "\n",
       "[1 rows x 564 columns]"
      ]
     },
     "execution_count": 52,
     "metadata": {},
     "output_type": "execute_result"
    }
   ],
   "source": [
    "# get the data from txt files to pandas dataframe\n",
    "X_train = pd.read_csv('dataset/train/X_train.txt', delim_whitespace=True, header=None)\n",
    "X_train.columns = pd.DataFrame(data=features)\n",
    "\n",
    "# add subject column to the dataframe\n",
    "X_train['subject'] = pd.read_csv('dataset/train/subject_train.txt', header=None, squeeze=True)\n",
    "\n",
    "y_train = pd.read_csv('dataset/train/y_train.txt', names=['activity'], squeeze=True)\n",
    "y_train_labels = y_train.map(\n",
    "    {\n",
    "        1 : 'WALKING',\n",
    "        2 : 'WALKING_UPSTAIRS',\n",
    "        3 : 'WALKING_DOWNSTAIRS',\n",
    "        4 : 'SITTING',\n",
    "        5 : 'STANDING',\n",
    "        6 : 'LAYING'\n",
    "    }\n",
    ")\n",
    "\n",
    "# combine all columns in single pandas dataframe\n",
    "train = X_train\n",
    "train['activity'] = y_train\n",
    "train['activityName'] = y_train_labels\n",
    "print(f\"The Shape of trainig data is: {train.shape}\")\n",
    "train.sample()"
   ]
  },
  {
   "cell_type": "markdown",
   "metadata": {},
   "source": [
    "### Obtain the test data"
   ]
  },
  {
   "cell_type": "code",
   "execution_count": 54,
   "metadata": {},
   "outputs": [
    {
     "name": "stdout",
     "output_type": "stream",
     "text": [
      "The shape of test data is: (2947, 564)\n"
     ]
    },
    {
     "data": {
      "text/html": [
       "<div>\n",
       "<style scoped>\n",
       "    .dataframe tbody tr th:only-of-type {\n",
       "        vertical-align: middle;\n",
       "    }\n",
       "\n",
       "    .dataframe tbody tr th {\n",
       "        vertical-align: top;\n",
       "    }\n",
       "\n",
       "    .dataframe thead th {\n",
       "        text-align: right;\n",
       "    }\n",
       "</style>\n",
       "<table border=\"1\" class=\"dataframe\">\n",
       "  <thead>\n",
       "    <tr style=\"text-align: right;\">\n",
       "      <th></th>\n",
       "      <th>(tBodyAcc-mean()-X,)</th>\n",
       "      <th>(tBodyAcc-mean()-Y,)</th>\n",
       "      <th>(tBodyAcc-mean()-Z,)</th>\n",
       "      <th>(tBodyAcc-std()-X,)</th>\n",
       "      <th>(tBodyAcc-std()-Y,)</th>\n",
       "      <th>(tBodyAcc-std()-Z,)</th>\n",
       "      <th>(tBodyAcc-mad()-X,)</th>\n",
       "      <th>(tBodyAcc-mad()-Y,)</th>\n",
       "      <th>(tBodyAcc-mad()-Z,)</th>\n",
       "      <th>(tBodyAcc-max()-X,)</th>\n",
       "      <th>...</th>\n",
       "      <th>(angle(tBodyAccMean,gravity),)</th>\n",
       "      <th>(angle(tBodyAccJerkMean),gravityMean),)</th>\n",
       "      <th>(angle(tBodyGyroMean,gravityMean),)</th>\n",
       "      <th>(angle(tBodyGyroJerkMean,gravityMean),)</th>\n",
       "      <th>(angle(X,gravityMean),)</th>\n",
       "      <th>(angle(Y,gravityMean),)</th>\n",
       "      <th>(angle(Z,gravityMean),)</th>\n",
       "      <th>subject</th>\n",
       "      <th>activity</th>\n",
       "      <th>activityName</th>\n",
       "    </tr>\n",
       "  </thead>\n",
       "  <tbody>\n",
       "    <tr>\n",
       "      <th>237</th>\n",
       "      <td>0.228394</td>\n",
       "      <td>-0.0212</td>\n",
       "      <td>-0.159522</td>\n",
       "      <td>-0.399084</td>\n",
       "      <td>0.041624</td>\n",
       "      <td>-0.483794</td>\n",
       "      <td>-0.43486</td>\n",
       "      <td>0.002894</td>\n",
       "      <td>-0.491087</td>\n",
       "      <td>-0.171019</td>\n",
       "      <td>...</td>\n",
       "      <td>0.388568</td>\n",
       "      <td>0.551884</td>\n",
       "      <td>-0.835088</td>\n",
       "      <td>0.653104</td>\n",
       "      <td>-0.644899</td>\n",
       "      <td>0.322766</td>\n",
       "      <td>-0.08146</td>\n",
       "      <td>2</td>\n",
       "      <td>1</td>\n",
       "      <td>WALKING</td>\n",
       "    </tr>\n",
       "  </tbody>\n",
       "</table>\n",
       "<p>1 rows × 564 columns</p>\n",
       "</div>"
      ],
      "text/plain": [
       "     (tBodyAcc-mean()-X,)  (tBodyAcc-mean()-Y,)  (tBodyAcc-mean()-Z,)  \\\n",
       "237              0.228394               -0.0212             -0.159522   \n",
       "\n",
       "     (tBodyAcc-std()-X,)  (tBodyAcc-std()-Y,)  (tBodyAcc-std()-Z,)  \\\n",
       "237            -0.399084             0.041624            -0.483794   \n",
       "\n",
       "     (tBodyAcc-mad()-X,)  (tBodyAcc-mad()-Y,)  (tBodyAcc-mad()-Z,)  \\\n",
       "237             -0.43486             0.002894            -0.491087   \n",
       "\n",
       "     (tBodyAcc-max()-X,)  ...  (angle(tBodyAccMean,gravity),)  \\\n",
       "237            -0.171019  ...                        0.388568   \n",
       "\n",
       "     (angle(tBodyAccJerkMean),gravityMean),)  \\\n",
       "237                                 0.551884   \n",
       "\n",
       "     (angle(tBodyGyroMean,gravityMean),)  \\\n",
       "237                            -0.835088   \n",
       "\n",
       "     (angle(tBodyGyroJerkMean,gravityMean),)  (angle(X,gravityMean),)  \\\n",
       "237                                 0.653104                -0.644899   \n",
       "\n",
       "     (angle(Y,gravityMean),)  (angle(Z,gravityMean),)  subject  activity  \\\n",
       "237                 0.322766                 -0.08146        2         1   \n",
       "\n",
       "     activityName  \n",
       "237       WALKING  \n",
       "\n",
       "[1 rows x 564 columns]"
      ]
     },
     "execution_count": 54,
     "metadata": {},
     "output_type": "execute_result"
    }
   ],
   "source": [
    "# get the test data from txt file to pandas dataframe\n",
    "X_test = pd.read_csv('dataset/test/X_test.txt', delim_whitespace=True, header=None)\n",
    "X_test.columns = pd.DataFrame(data=features)\n",
    "\n",
    "# add subject (person) column to dataframe\n",
    "X_test['subject'] = pd.read_csv('dataset/test/subject_test.txt', header=None, squeeze=True)\n",
    "\n",
    "# get labels from txt file\n",
    "y_test = pd.read_csv('dataset/test/y_test.txt', names=['activity'], squeeze=True)\n",
    "y_test_labels = y_test.map({\n",
    "    1 : 'WALKING',\n",
    "    2 : 'WALKING_UPSTAIRS',\n",
    "    3 : 'WALKING_DOWNSTAIRS',\n",
    "    4 : 'SITTING', \n",
    "    5 : 'STANDING',\n",
    "    6 : 'LAYING'\n",
    "})\n",
    "\n",
    "# Combine all the columns to a single dataframe\n",
    "test = X_test\n",
    "test['activity'] = y_test\n",
    "test['activityName'] = y_test_labels\n",
    "\n",
    "print(f\"The shape of test data is: {test.shape}\")\n",
    "test.sample()"
   ]
  },
  {
   "cell_type": "markdown",
   "metadata": {},
   "source": [
    "# Data Cleaning\n",
    "\n",
    "### 1. Check for Duplicates"
   ]
  },
  {
   "cell_type": "code",
   "execution_count": 58,
   "metadata": {},
   "outputs": [
    {
     "name": "stdout",
     "output_type": "stream",
     "text": [
      "No of duplicates in Train Set: 0\n",
      "No of duplicates in Test Set: 0\n"
     ]
    }
   ],
   "source": [
    "print(f\"No of duplicates in Train Set: {sum(train.duplicated())}\")\n",
    "print(f\"No of duplicates in Test Set: {sum(test.duplicated())}\")"
   ]
  },
  {
   "cell_type": "markdown",
   "metadata": {},
   "source": [
    "### 2. Checking for nan/Null values"
   ]
  },
  {
   "cell_type": "code",
   "execution_count": 59,
   "metadata": {},
   "outputs": [
    {
     "name": "stdout",
     "output_type": "stream",
     "text": [
      "There are 0 nan/null values in train set\n",
      "There are 0 nan/null values in test set\n"
     ]
    }
   ],
   "source": [
    "print(f\"There are {train.isnull().values.sum()} nan/null values in train set\")\n",
    "print(f\"There are {test.isnull().values.sum()} nan/null values in test set\")"
   ]
  },
  {
   "cell_type": "markdown",
   "metadata": {},
   "source": [
    "### 3. Check for data imbalance"
   ]
  },
  {
   "cell_type": "code",
   "execution_count": 62,
   "metadata": {},
   "outputs": [],
   "source": [
    "import matplotlib.pyplot as plt\n",
    "import seaborn as sns\n",
    "\n",
    "sns.set_style('whitegrid')"
   ]
  },
  {
   "cell_type": "code",
   "execution_count": 73,
   "metadata": {},
   "outputs": [
    {
     "data": {
      "image/png": "[encoded data removed]",
      "text/plain": [
       "<Figure size 1152x504 with 1 Axes>"
      ]
     },
     "metadata": {},
     "output_type": "display_data"
    }
   ],
   "source": [
    "plt.figure(figsize=(16,7))\n",
    "plt.title(\"Representation of counts of activity data for each subject\", fontsize=20)\n",
    "sns.countplot(x='subject', hue='activityName', data=train)\n",
    "plt.show()"
   ]
  },
  {
   "cell_type": "code",
   "execution_count": 76,
   "metadata": {},
   "outputs": [
    {
     "data": {
      "image/png": "[encoded data removed]",
      "text/plain": [
       "<Figure size 432x288 with 1 Axes>"
      ]
     },
     "metadata": {},
     "output_type": "display_data"
    }
   ],
   "source": [
    "plt.title(\"No of Datapoints per Activity\", fontsize=20)\n",
    "sns.countplot(train.activityName)\n",
    "plt.xticks(rotation=90)\n",
    "plt.show()"
   ]
  },
  {
   "cell_type": "code",
   "execution_count": null,
   "metadata": {},
   "outputs": [],
   "source": []
  }
 ],
 "metadata": {
  "kernelspec": {
   "display_name": "Python 3",
   "language": "python",
   "name": "python3"
  },
  "language_info": {
   "codemirror_mode": {
    "name": "ipython",
    "version": 3
   },
   "file_extension": ".py",
   "mimetype": "text/x-python",
   "name": "python",
   "nbconvert_exporter": "python",
   "pygments_lexer": "ipython3",
   "version": "3.6.9"
  }
 },
 "nbformat": 4,
 "nbformat_minor": 2
}
