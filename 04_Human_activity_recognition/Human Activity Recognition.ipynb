{
 "cells": [
  {
   "cell_type": "markdown",
   "metadata": {},
   "source": [
    "# Human Activity Recognition"
   ]
  },
  {
   "cell_type": "markdown",
   "metadata": {},
   "source": [
    "### Objective\n",
    "The main objective of this project is to build a model that predicts the human activities such as Walking, Walking Upstairs, Walking Downstairs, Sitting, Standing or Laying.\n",
    "\n",
    "### Dataset Information\n",
    "The dataset is collected from 30 volunteers within an age group of 19-48 years wearing a smartphone on the waist. Using its embedded accelerometer and gyroscope, 3-axial linear acceleration and 3-axial angular velocity at a constant rate of 50Hz is captured. Further, the video was recorded to label the data manually.\n",
    "\n",
    "The sensors (accelerometer and gyroscope) signal were pre-processed by applying noise filters and then sampled in fixed-width sliding windows of 2.56 sec and 50% overlabping (128 readings/window). The sensor acceleration signal, which has gravitational and body motion components, was seperated using a Butterworth Low-Pass filter into body acceleration and gravity. The gravitational force is assumed to have only low frequency components, therefore a filter with 0.3Hz cutoff frequency was used. From each window, a vector of features was obtained by calculating variables from the time and frequncy domain. <a href=\"https://archive.ics.uci.edu/ml/datasets/human+activity+recognition+using+smartphones#\">[1]</a>\n",
    "\n",
    "The body linear acceleration and angular velocity were derived in time to obtain jerk signals <strong>(tBodyAccJerk-XYZ and tBodyGyroJerk-XYZ)</strong>.\n",
    "\n",
    "The magnitude of these 3-dimensional signals were calculated using the Euclidian norm. This magnitudes are represented as features with names: <strong>tBodyAccMag, tGravityAccMag, tBodyAccJerkMag, tBodyGyroMag and tBodyGyroJerkMag)</strong>.\n",
    "\n",
    "Frequency domain signals from some of the available signals are obtained applying a Fast Fourier Transform (FFT). These signals objtained were labeled with prefix <strong>'f'</strong> as <strong> fBodyAcc-XYZ, fBodyGyroMag...</strong>\n",
    "\n",
    "A video of the experiment including an example of the 6 recorded activities with one of the participants can be seen <a href=\"https://www.youtube.com/watch?v=XOEN9W05_4A\">here.</a>\n",
    "\n",
    "### Label Encodings\n",
    "* WALKING as 1\n",
    "* WALKING_UPSTAIRS as 2\n",
    "* WALKING_DOWNSTAIRS as 3\n",
    "* SITTING as 4\n",
    "* STANDING as 5\n",
    "* LAYING as 6\n"
   ]
  },
  {
   "cell_type": "code",
   "execution_count": 1,
   "metadata": {},
   "outputs": [
    {
     "ename": "ModuleNotFoundError",
     "evalue": "No module named 'pandas'",
     "output_type": "error",
     "traceback": [
      "\u001b[0;31m---------------------------------------------------------------------------\u001b[0m",
      "\u001b[0;31mModuleNotFoundError\u001b[0m                       Traceback (most recent call last)",
      "\u001b[0;32m<ipython-input-1-7f8928cab068>\u001b[0m in \u001b[0;36m<module>\u001b[0;34m\u001b[0m\n\u001b[1;32m      1\u001b[0m \u001b[0;32mimport\u001b[0m \u001b[0mnumpy\u001b[0m \u001b[0;32mas\u001b[0m \u001b[0mnp\u001b[0m\u001b[0;34m\u001b[0m\u001b[0;34m\u001b[0m\u001b[0m\n\u001b[0;32m----> 2\u001b[0;31m \u001b[0;32mimport\u001b[0m \u001b[0mpandas\u001b[0m \u001b[0;32mas\u001b[0m \u001b[0mpd\u001b[0m\u001b[0;34m\u001b[0m\u001b[0;34m\u001b[0m\u001b[0m\n\u001b[0m\u001b[1;32m      3\u001b[0m \u001b[0;32mimport\u001b[0m \u001b[0mwarnings\u001b[0m\u001b[0;34m\u001b[0m\u001b[0;34m\u001b[0m\u001b[0m\n\u001b[1;32m      4\u001b[0m \u001b[0mwarnings\u001b[0m\u001b[0;34m.\u001b[0m\u001b[0mfilterwarnings\u001b[0m\u001b[0;34m(\u001b[0m\u001b[0;34m\"ignore\"\u001b[0m\u001b[0;34m)\u001b[0m\u001b[0;34m\u001b[0m\u001b[0;34m\u001b[0m\u001b[0m\n",
      "\u001b[0;31mModuleNotFoundError\u001b[0m: No module named 'pandas'"
     ]
    }
   ],
   "source": [
    "import numpy as np\n",
    "import pandas as pd\n",
    "import warnings\n",
    "warnings.filterwarnings(\"ignore\")"
   ]
  },
  {
   "cell_type": "code",
   "execution_count": null,
   "metadata": {},
   "outputs": [],
   "source": []
  }
 ],
 "metadata": {
  "kernelspec": {
   "display_name": "Python 3",
   "language": "python",
   "name": "python3"
  },
  "language_info": {
   "codemirror_mode": {
    "name": "ipython",
    "version": 3
   },
   "file_extension": ".py",
   "mimetype": "text/x-python",
   "name": "python",
   "nbconvert_exporter": "python",
   "pygments_lexer": "ipython3",
   "version": "3.6.9"
  }
 },
 "nbformat": 4,
 "nbformat_minor": 2
}
